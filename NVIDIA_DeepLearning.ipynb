{
  "nbformat": 4,
  "nbformat_minor": 0,
  "metadata": {
    "colab": {
      "provenance": [],
      "authorship_tag": "ABX9TyMyk/xW+7LHTNrREZTZuc5C",
      "include_colab_link": true
    },
    "kernelspec": {
      "name": "python3",
      "display_name": "Python 3"
    },
    "language_info": {
      "name": "python"
    }
  },
  "cells": [
    {
      "cell_type": "markdown",
      "metadata": {
        "id": "view-in-github",
        "colab_type": "text"
      },
      "source": [
        "<a href=\"https://colab.research.google.com/github/MunySafitri/Retrieval_Information/blob/main/NVIDIA_DeepLearning.ipynb\" target=\"_parent\"><img src=\"https://colab.research.google.com/assets/colab-badge.svg\" alt=\"Open In Colab\"/></a>"
      ]
    },
    {
      "cell_type": "markdown",
      "source": [
        "# **1: An Introduction to Deep Learning**"
      ],
      "metadata": {
        "id": "XfroFTj0yR6H"
      }
    },
    {
      "cell_type": "markdown",
      "source": [
        "Notes :\n",
        "\n",
        "In AI, we not only learn how robotics think, but we can also pick up a few tricks to help humans be more efficient learners too\n",
        "\n",
        "Like a video game, free to make mistake and learn from it too\n",
        "\n",
        "Human vs Machine Learning\n",
        "\n",
        "**Human**       ,       **Machine**\n",
        "\n",
        "Rest and Digest  ,  Training\n",
        "\n",
        "Fight-or-flight  ,  Prediction\n",
        "\n",
        "\"Von Neuemann architecture\"\n",
        "\"Deep Blue\" - example of expert system\"\n",
        "\"Automated Decision Making\"\n",
        "\"Popular learning technique : trial and error\" \n",
        "\"Computer Vision\"\n",
        "\n",
        "Deep learning flips traditional programming on its head\n",
        "\n",
        "Normally to build classifier in machine learning :\n",
        "1.   Define a set of rules for classification\n",
        "2.   Program those rules into the computer\n",
        "3.   Feed it examples, and the program uses the rules to classify\n",
        "\n",
        "Bu Afia : \"gak semua harus menggunakan deep learning\", (andaikata kita udah bisa pakai serok buat gali tanah untuk pup kucing, maka kita gaperlu pakai cangkul, begitu juga dengan deep learning, kalo pake cara sederhana bisa, ga usah pake deep learning krn lumayan juga)\n",
        "\n",
        "Computer Vision :\n",
        "Robotics and manufacturing, object detection, self driving cars\n",
        "\n",
        "NLP :\n",
        "Real time translation, voice recognition, virtual assistant\n",
        "\n",
        "Recomender system :\n",
        "Content curation, targeted advertizing, shopping recommendations\n",
        "\n",
        "Reinforcement learning :\n",
        "Alphago beats world champion in go, AI bots beats professional videogamers, stock trading robots\n",
        "\n"
      ],
      "metadata": {
        "id": "a2LUyLpQyoIe"
      }
    },
    {
      "cell_type": "code",
      "source": [
        "# clear the GPU memory\n",
        "import IPython\n",
        "app = IPython.Application.instance()\n",
        "app.kernel.do_shutdown(True)"
      ],
      "metadata": {
        "colab": {
          "base_uri": "https://localhost:8080/"
        },
        "id": "HflpUGBe5_ox",
        "outputId": "9d86b603-c8d3-4563-f632-f39f9a00cab5"
      },
      "execution_count": null,
      "outputs": [
        {
          "output_type": "execute_result",
          "data": {
            "text/plain": [
              "{'status': 'ok', 'restart': True}"
            ]
          },
          "metadata": {},
          "execution_count": 1
        }
      ]
    },
    {
      "cell_type": "markdown",
      "source": [
        "### 01_mnist.ipynb : Image Classification with the MNIST Dataset\n",
        "classify an image to a correct class"
      ],
      "metadata": {
        "id": "JxjmTnSI9Bzc"
      }
    },
    {
      "cell_type": "code",
      "execution_count": null,
      "metadata": {
        "colab": {
          "base_uri": "https://localhost:8080/"
        },
        "id": "-7pQQqWpyErP",
        "outputId": "450f9738-92cb-44e3-aa49-888e5cf15476"
      },
      "outputs": [
        {
          "output_type": "stream",
          "name": "stdout",
          "text": [
            "Downloading data from https://storage.googleapis.com/tensorflow/tf-keras-datasets/mnist.npz\n",
            "11490434/11490434 [==============================] - 0s 0us/step\n"
          ]
        }
      ],
      "source": [
        "# Loading the Data Into Memory (with Keras)\n",
        "from tensorflow.keras.datasets import mnist\n",
        "\n",
        "# the data, split between train and validation sets\n",
        "(x_train, y_train), (x_valid, y_valid) = mnist.load_data()\n"
      ]
    },
    {
      "cell_type": "code",
      "source": [
        "x_train.shape"
      ],
      "metadata": {
        "colab": {
          "base_uri": "https://localhost:8080/"
        },
        "id": "9qIwfzOJ_K9Z",
        "outputId": "c7641ef1-9085-4115-d98d-ed54adb15b2d"
      },
      "execution_count": null,
      "outputs": [
        {
          "output_type": "execute_result",
          "data": {
            "text/plain": [
              "(60000, 28, 28)"
            ]
          },
          "metadata": {},
          "execution_count": 2
        }
      ]
    },
    {
      "cell_type": "code",
      "source": [
        "x_valid.shape"
      ],
      "metadata": {
        "colab": {
          "base_uri": "https://localhost:8080/"
        },
        "id": "rBEM6x9R_Mt-",
        "outputId": "f65599b7-7d76-450f-966b-88c1f13f9601"
      },
      "execution_count": null,
      "outputs": [
        {
          "output_type": "execute_result",
          "data": {
            "text/plain": [
              "(10000, 28, 28)"
            ]
          },
          "metadata": {},
          "execution_count": 3
        }
      ]
    },
    {
      "cell_type": "code",
      "source": [
        "x_train[0]"
      ],
      "metadata": {
        "colab": {
          "base_uri": "https://localhost:8080/"
        },
        "id": "c0mLJdVo_P9n",
        "outputId": "1cdbd184-fee4-408f-964c-8030375e5307"
      },
      "execution_count": null,
      "outputs": [
        {
          "output_type": "execute_result",
          "data": {
            "text/plain": [
              "array([[  0,   0,   0,   0,   0,   0,   0,   0,   0,   0,   0,   0,   0,\n",
              "          0,   0,   0,   0,   0,   0,   0,   0,   0,   0,   0,   0,   0,\n",
              "          0,   0],\n",
              "       [  0,   0,   0,   0,   0,   0,   0,   0,   0,   0,   0,   0,   0,\n",
              "          0,   0,   0,   0,   0,   0,   0,   0,   0,   0,   0,   0,   0,\n",
              "          0,   0],\n",
              "       [  0,   0,   0,   0,   0,   0,   0,   0,   0,   0,   0,   0,   0,\n",
              "          0,   0,   0,   0,   0,   0,   0,   0,   0,   0,   0,   0,   0,\n",
              "          0,   0],\n",
              "       [  0,   0,   0,   0,   0,   0,   0,   0,   0,   0,   0,   0,   0,\n",
              "          0,   0,   0,   0,   0,   0,   0,   0,   0,   0,   0,   0,   0,\n",
              "          0,   0],\n",
              "       [  0,   0,   0,   0,   0,   0,   0,   0,   0,   0,   0,   0,   0,\n",
              "          0,   0,   0,   0,   0,   0,   0,   0,   0,   0,   0,   0,   0,\n",
              "          0,   0],\n",
              "       [  0,   0,   0,   0,   0,   0,   0,   0,   0,   0,   0,   0,   3,\n",
              "         18,  18,  18, 126, 136, 175,  26, 166, 255, 247, 127,   0,   0,\n",
              "          0,   0],\n",
              "       [  0,   0,   0,   0,   0,   0,   0,   0,  30,  36,  94, 154, 170,\n",
              "        253, 253, 253, 253, 253, 225, 172, 253, 242, 195,  64,   0,   0,\n",
              "          0,   0],\n",
              "       [  0,   0,   0,   0,   0,   0,   0,  49, 238, 253, 253, 253, 253,\n",
              "        253, 253, 253, 253, 251,  93,  82,  82,  56,  39,   0,   0,   0,\n",
              "          0,   0],\n",
              "       [  0,   0,   0,   0,   0,   0,   0,  18, 219, 253, 253, 253, 253,\n",
              "        253, 198, 182, 247, 241,   0,   0,   0,   0,   0,   0,   0,   0,\n",
              "          0,   0],\n",
              "       [  0,   0,   0,   0,   0,   0,   0,   0,  80, 156, 107, 253, 253,\n",
              "        205,  11,   0,  43, 154,   0,   0,   0,   0,   0,   0,   0,   0,\n",
              "          0,   0],\n",
              "       [  0,   0,   0,   0,   0,   0,   0,   0,   0,  14,   1, 154, 253,\n",
              "         90,   0,   0,   0,   0,   0,   0,   0,   0,   0,   0,   0,   0,\n",
              "          0,   0],\n",
              "       [  0,   0,   0,   0,   0,   0,   0,   0,   0,   0,   0, 139, 253,\n",
              "        190,   2,   0,   0,   0,   0,   0,   0,   0,   0,   0,   0,   0,\n",
              "          0,   0],\n",
              "       [  0,   0,   0,   0,   0,   0,   0,   0,   0,   0,   0,  11, 190,\n",
              "        253,  70,   0,   0,   0,   0,   0,   0,   0,   0,   0,   0,   0,\n",
              "          0,   0],\n",
              "       [  0,   0,   0,   0,   0,   0,   0,   0,   0,   0,   0,   0,  35,\n",
              "        241, 225, 160, 108,   1,   0,   0,   0,   0,   0,   0,   0,   0,\n",
              "          0,   0],\n",
              "       [  0,   0,   0,   0,   0,   0,   0,   0,   0,   0,   0,   0,   0,\n",
              "         81, 240, 253, 253, 119,  25,   0,   0,   0,   0,   0,   0,   0,\n",
              "          0,   0],\n",
              "       [  0,   0,   0,   0,   0,   0,   0,   0,   0,   0,   0,   0,   0,\n",
              "          0,  45, 186, 253, 253, 150,  27,   0,   0,   0,   0,   0,   0,\n",
              "          0,   0],\n",
              "       [  0,   0,   0,   0,   0,   0,   0,   0,   0,   0,   0,   0,   0,\n",
              "          0,   0,  16,  93, 252, 253, 187,   0,   0,   0,   0,   0,   0,\n",
              "          0,   0],\n",
              "       [  0,   0,   0,   0,   0,   0,   0,   0,   0,   0,   0,   0,   0,\n",
              "          0,   0,   0,   0, 249, 253, 249,  64,   0,   0,   0,   0,   0,\n",
              "          0,   0],\n",
              "       [  0,   0,   0,   0,   0,   0,   0,   0,   0,   0,   0,   0,   0,\n",
              "          0,  46, 130, 183, 253, 253, 207,   2,   0,   0,   0,   0,   0,\n",
              "          0,   0],\n",
              "       [  0,   0,   0,   0,   0,   0,   0,   0,   0,   0,   0,   0,  39,\n",
              "        148, 229, 253, 253, 253, 250, 182,   0,   0,   0,   0,   0,   0,\n",
              "          0,   0],\n",
              "       [  0,   0,   0,   0,   0,   0,   0,   0,   0,   0,  24, 114, 221,\n",
              "        253, 253, 253, 253, 201,  78,   0,   0,   0,   0,   0,   0,   0,\n",
              "          0,   0],\n",
              "       [  0,   0,   0,   0,   0,   0,   0,   0,  23,  66, 213, 253, 253,\n",
              "        253, 253, 198,  81,   2,   0,   0,   0,   0,   0,   0,   0,   0,\n",
              "          0,   0],\n",
              "       [  0,   0,   0,   0,   0,   0,  18, 171, 219, 253, 253, 253, 253,\n",
              "        195,  80,   9,   0,   0,   0,   0,   0,   0,   0,   0,   0,   0,\n",
              "          0,   0],\n",
              "       [  0,   0,   0,   0,  55, 172, 226, 253, 253, 253, 253, 244, 133,\n",
              "         11,   0,   0,   0,   0,   0,   0,   0,   0,   0,   0,   0,   0,\n",
              "          0,   0],\n",
              "       [  0,   0,   0,   0, 136, 253, 253, 253, 212, 135, 132,  16,   0,\n",
              "          0,   0,   0,   0,   0,   0,   0,   0,   0,   0,   0,   0,   0,\n",
              "          0,   0],\n",
              "       [  0,   0,   0,   0,   0,   0,   0,   0,   0,   0,   0,   0,   0,\n",
              "          0,   0,   0,   0,   0,   0,   0,   0,   0,   0,   0,   0,   0,\n",
              "          0,   0],\n",
              "       [  0,   0,   0,   0,   0,   0,   0,   0,   0,   0,   0,   0,   0,\n",
              "          0,   0,   0,   0,   0,   0,   0,   0,   0,   0,   0,   0,   0,\n",
              "          0,   0],\n",
              "       [  0,   0,   0,   0,   0,   0,   0,   0,   0,   0,   0,   0,   0,\n",
              "          0,   0,   0,   0,   0,   0,   0,   0,   0,   0,   0,   0,   0,\n",
              "          0,   0]], dtype=uint8)"
            ]
          },
          "metadata": {},
          "execution_count": 4
        }
      ]
    },
    {
      "cell_type": "code",
      "source": [
        "# melihat image dg matpotlib\n",
        "\n",
        "import matplotlib.pyplot as plt\n",
        "\n",
        "image = x_train[0]\n",
        "plt.imshow(image, cmap='gray')"
      ],
      "metadata": {
        "colab": {
          "base_uri": "https://localhost:8080/",
          "height": 282
        },
        "id": "ieW1UkIO_kGz",
        "outputId": "66be344c-0671-4238-9e08-d51b154863a1"
      },
      "execution_count": null,
      "outputs": [
        {
          "output_type": "execute_result",
          "data": {
            "text/plain": [
              "<matplotlib.image.AxesImage at 0x7f643389d350>"
            ]
          },
          "metadata": {},
          "execution_count": 5
        },
        {
          "output_type": "display_data",
          "data": {
            "text/plain": [
              "<Figure size 432x288 with 1 Axes>"
            ],
            "image/png": "[encoded data removed]"
          },
          "metadata": {
            "needs_background": "light"
          }
        }
      ]
    },
    {
      "cell_type": "code",
      "source": [
        "# label dari image tadi\n",
        "\n",
        "y_train[0]\n"
      ],
      "metadata": {
        "colab": {
          "base_uri": "https://localhost:8080/"
        },
        "id": "gBquXJpj_qLH",
        "outputId": "2fb407c9-f185-4167-8075-4c8a02a7b411"
      },
      "execution_count": null,
      "outputs": [
        {
          "output_type": "execute_result",
          "data": {
            "text/plain": [
              "5"
            ]
          },
          "metadata": {},
          "execution_count": 6
        }
      ]
    },
    {
      "cell_type": "code",
      "source": [
        "# Flattening the Image Data\n",
        "# reshape each image into a single array of 784 continuous pixels (note: 28x28 = 784). This is also called flattening the image.\n",
        "# from 3d (60000-jml image, 28, 28 - dimensi image) to 2d (60000, 784(28x28)) --> array\n",
        "x_train = x_train.reshape(60000, 784)\n",
        "x_valid = x_valid.reshape(10000, 784)"
      ],
      "metadata": {
        "id": "ZEck3rk-AJWG"
      },
      "execution_count": null,
      "outputs": []
    },
    {
      "cell_type": "code",
      "source": [
        "x_train[0]"
      ],
      "metadata": {
        "colab": {
          "base_uri": "https://localhost:8080/"
        },
        "id": "QgAqWajKA8nB",
        "outputId": "7f0bdfdc-60f3-4405-c50a-0036dfa7f0e5"
      },
      "execution_count": null,
      "outputs": [
        {
          "output_type": "execute_result",
          "data": {
            "text/plain": [
              "array([  0,   0,   0,   0,   0,   0,   0,   0,   0,   0,   0,   0,   0,\n",
              "         0,   0,   0,   0,   0,   0,   0,   0,   0,   0,   0,   0,   0,\n",
              "         0,   0,   0,   0,   0,   0,   0,   0,   0,   0,   0,   0,   0,\n",
              "         0,   0,   0,   0,   0,   0,   0,   0,   0,   0,   0,   0,   0,\n",
              "         0,   0,   0,   0,   0,   0,   0,   0,   0,   0,   0,   0,   0,\n",
              "         0,   0,   0,   0,   0,   0,   0,   0,   0,   0,   0,   0,   0,\n",
              "         0,   0,   0,   0,   0,   0,   0,   0,   0,   0,   0,   0,   0,\n",
              "         0,   0,   0,   0,   0,   0,   0,   0,   0,   0,   0,   0,   0,\n",
              "         0,   0,   0,   0,   0,   0,   0,   0,   0,   0,   0,   0,   0,\n",
              "         0,   0,   0,   0,   0,   0,   0,   0,   0,   0,   0,   0,   0,\n",
              "         0,   0,   0,   0,   0,   0,   0,   0,   0,   0,   0,   0,   0,\n",
              "         0,   0,   0,   0,   0,   0,   0,   0,   0,   3,  18,  18,  18,\n",
              "       126, 136, 175,  26, 166, 255, 247, 127,   0,   0,   0,   0,   0,\n",
              "         0,   0,   0,   0,   0,   0,   0,  30,  36,  94, 154, 170, 253,\n",
              "       253, 253, 253, 253, 225, 172, 253, 242, 195,  64,   0,   0,   0,\n",
              "         0,   0,   0,   0,   0,   0,   0,   0,  49, 238, 253, 253, 253,\n",
              "       253, 253, 253, 253, 253, 251,  93,  82,  82,  56,  39,   0,   0,\n",
              "         0,   0,   0,   0,   0,   0,   0,   0,   0,   0,  18, 219, 253,\n",
              "       253, 253, 253, 253, 198, 182, 247, 241,   0,   0,   0,   0,   0,\n",
              "         0,   0,   0,   0,   0,   0,   0,   0,   0,   0,   0,   0,   0,\n",
              "        80, 156, 107, 253, 253, 205,  11,   0,  43, 154,   0,   0,   0,\n",
              "         0,   0,   0,   0,   0,   0,   0,   0,   0,   0,   0,   0,   0,\n",
              "         0,   0,   0,  14,   1, 154, 253,  90,   0,   0,   0,   0,   0,\n",
              "         0,   0,   0,   0,   0,   0,   0,   0,   0,   0,   0,   0,   0,\n",
              "         0,   0,   0,   0,   0,   0,   0, 139, 253, 190,   2,   0,   0,\n",
              "         0,   0,   0,   0,   0,   0,   0,   0,   0,   0,   0,   0,   0,\n",
              "         0,   0,   0,   0,   0,   0,   0,   0,   0,  11, 190, 253,  70,\n",
              "         0,   0,   0,   0,   0,   0,   0,   0,   0,   0,   0,   0,   0,\n",
              "         0,   0,   0,   0,   0,   0,   0,   0,   0,   0,   0,   0,  35,\n",
              "       241, 225, 160, 108,   1,   0,   0,   0,   0,   0,   0,   0,   0,\n",
              "         0,   0,   0,   0,   0,   0,   0,   0,   0,   0,   0,   0,   0,\n",
              "         0,   0,  81, 240, 253, 253, 119,  25,   0,   0,   0,   0,   0,\n",
              "         0,   0,   0,   0,   0,   0,   0,   0,   0,   0,   0,   0,   0,\n",
              "         0,   0,   0,   0,   0,  45, 186, 253, 253, 150,  27,   0,   0,\n",
              "         0,   0,   0,   0,   0,   0,   0,   0,   0,   0,   0,   0,   0,\n",
              "         0,   0,   0,   0,   0,   0,   0,   0,  16,  93, 252, 253, 187,\n",
              "         0,   0,   0,   0,   0,   0,   0,   0,   0,   0,   0,   0,   0,\n",
              "         0,   0,   0,   0,   0,   0,   0,   0,   0,   0,   0,   0, 249,\n",
              "       253, 249,  64,   0,   0,   0,   0,   0,   0,   0,   0,   0,   0,\n",
              "         0,   0,   0,   0,   0,   0,   0,   0,   0,   0,   0,  46, 130,\n",
              "       183, 253, 253, 207,   2,   0,   0,   0,   0,   0,   0,   0,   0,\n",
              "         0,   0,   0,   0,   0,   0,   0,   0,   0,   0,   0,  39, 148,\n",
              "       229, 253, 253, 253, 250, 182,   0,   0,   0,   0,   0,   0,   0,\n",
              "         0,   0,   0,   0,   0,   0,   0,   0,   0,   0,   0,  24, 114,\n",
              "       221, 253, 253, 253, 253, 201,  78,   0,   0,   0,   0,   0,   0,\n",
              "         0,   0,   0,   0,   0,   0,   0,   0,   0,   0,   0,  23,  66,\n",
              "       213, 253, 253, 253, 253, 198,  81,   2,   0,   0,   0,   0,   0,\n",
              "         0,   0,   0,   0,   0,   0,   0,   0,   0,   0,   0,  18, 171,\n",
              "       219, 253, 253, 253, 253, 195,  80,   9,   0,   0,   0,   0,   0,\n",
              "         0,   0,   0,   0,   0,   0,   0,   0,   0,   0,   0,  55, 172,\n",
              "       226, 253, 253, 253, 253, 244, 133,  11,   0,   0,   0,   0,   0,\n",
              "         0,   0,   0,   0,   0,   0,   0,   0,   0,   0,   0,   0,   0,\n",
              "       136, 253, 253, 253, 212, 135, 132,  16,   0,   0,   0,   0,   0,\n",
              "         0,   0,   0,   0,   0,   0,   0,   0,   0,   0,   0,   0,   0,\n",
              "         0,   0,   0,   0,   0,   0,   0,   0,   0,   0,   0,   0,   0,\n",
              "         0,   0,   0,   0,   0,   0,   0,   0,   0,   0,   0,   0,   0,\n",
              "         0,   0,   0,   0,   0,   0,   0,   0,   0,   0,   0,   0,   0,\n",
              "         0,   0,   0,   0,   0,   0,   0,   0,   0,   0,   0,   0,   0,\n",
              "         0,   0,   0,   0,   0,   0,   0,   0,   0,   0,   0,   0,   0,\n",
              "         0,   0,   0,   0,   0,   0,   0,   0,   0,   0,   0,   0,   0,\n",
              "         0,   0,   0,   0], dtype=uint8)"
            ]
          },
          "metadata": {},
          "execution_count": 9
        }
      ]
    },
    {
      "cell_type": "code",
      "source": [
        "# Normalizing the Image Data\n",
        "# Converting integer values to floating point values between 0 and 1 is called normalization\n",
        "x_train = x_train / 255\n",
        "x_valid = x_valid / 255 \n",
        "\n",
        "print(\"x_train.dtype : \",x_train.dtype)\n",
        "print(\"x_train.min() : \", x_train.min())\n",
        "print(\"x_train.max() : \",x_train.max())\n"
      ],
      "metadata": {
        "colab": {
          "base_uri": "https://localhost:8080/"
        },
        "id": "19lJKUMyBuzS",
        "outputId": "7971b0d1-5eed-4411-a623-143cc9072765"
      },
      "execution_count": null,
      "outputs": [
        {
          "output_type": "stream",
          "name": "stdout",
          "text": [
            "x_train.dtype :  float64\n",
            "x_train.min() :  0.0\n",
            "x_train.max() :  1.0\n"
          ]
        }
      ]
    },
    {
      "cell_type": "code",
      "source": [
        "# Categorically Encoding the Labels\n",
        "import tensorflow.keras as keras\n",
        "num_categories = 10\n",
        "\n",
        "y_train = keras.utils.to_categorical(y_train, num_categories)\n",
        "y_valid = keras.utils.to_categorical(y_valid, num_categories)"
      ],
      "metadata": {
        "id": "Hq8Dn7gUCz-9"
      },
      "execution_count": null,
      "outputs": []
    },
    {
      "cell_type": "code",
      "source": [
        "y_train[0:9]"
      ],
      "metadata": {
        "colab": {
          "base_uri": "https://localhost:8080/"
        },
        "id": "ekorSQ0eDoC1",
        "outputId": "ae321868-0880-41d4-a951-459bbcfc2629"
      },
      "execution_count": null,
      "outputs": [
        {
          "output_type": "execute_result",
          "data": {
            "text/plain": [
              "array([[0., 0., 0., 0., 0., 1., 0., 0., 0., 0.],\n",
              "       [1., 0., 0., 0., 0., 0., 0., 0., 0., 0.],\n",
              "       [0., 0., 0., 0., 1., 0., 0., 0., 0., 0.],\n",
              "       [0., 1., 0., 0., 0., 0., 0., 0., 0., 0.],\n",
              "       [0., 0., 0., 0., 0., 0., 0., 0., 0., 1.],\n",
              "       [0., 0., 1., 0., 0., 0., 0., 0., 0., 0.],\n",
              "       [0., 1., 0., 0., 0., 0., 0., 0., 0., 0.],\n",
              "       [0., 0., 0., 1., 0., 0., 0., 0., 0., 0.],\n",
              "       [0., 1., 0., 0., 0., 0., 0., 0., 0., 0.]], dtype=float32)"
            ]
          },
          "metadata": {},
          "execution_count": 12
        }
      ]
    },
    {
      "cell_type": "code",
      "source": [
        "# Creating the Model\n",
        "# Instantiating the Model\n",
        "from tensorflow.keras.models import Sequential\n",
        "\n",
        "model = Sequential()"
      ],
      "metadata": {
        "id": "CFCvOhQWD2VX"
      },
      "execution_count": null,
      "outputs": []
    },
    {
      "cell_type": "code",
      "source": [
        "# Creating the Input Layer\n",
        "from tensorflow.keras.layers import Dense"
      ],
      "metadata": {
        "id": "AsmZgQI8FK-p"
      },
      "execution_count": null,
      "outputs": []
    },
    {
      "cell_type": "code",
      "source": [
        "model.add(Dense(units=512, activation='relu', input_shape=(784,)))"
      ],
      "metadata": {
        "id": "6eXWdOpOFlLT"
      },
      "execution_count": null,
      "outputs": []
    },
    {
      "cell_type": "code",
      "source": [
        "# Creating the Hidden Layer\n",
        "model.add(Dense(units = 512, activation='relu'))"
      ],
      "metadata": {
        "id": "R3tXXOA8GCaq"
      },
      "execution_count": null,
      "outputs": []
    },
    {
      "cell_type": "code",
      "source": [
        "# Creating the Output Layer\n",
        "model.add(Dense(units = 10, activation='softmax'))"
      ],
      "metadata": {
        "id": "ANMsQ5vqHM-t"
      },
      "execution_count": null,
      "outputs": []
    },
    {
      "cell_type": "code",
      "source": [
        "# Summarizing the Model\n",
        "# readable summary of a model\n",
        "\n",
        "model.summary()"
      ],
      "metadata": {
        "colab": {
          "base_uri": "https://localhost:8080/"
        },
        "id": "DmFgQbO8HVA9",
        "outputId": "ef256046-5fd9-4794-9186-23a021a57cd5"
      },
      "execution_count": null,
      "outputs": [
        {
          "output_type": "stream",
          "name": "stdout",
          "text": [
            "Model: \"sequential\"\n",
            "_________________________________________________________________\n",
            " Layer (type)                Output Shape              Param #   \n",
            "=================================================================\n",
            " dense (Dense)               (None, 512)               401920    \n",
            "                                                                 \n",
            " dense_1 (Dense)             (None, 512)               262656    \n",
            "                                                                 \n",
            " dense_2 (Dense)             (None, 10)                5130      \n",
            "                                                                 \n",
            "=================================================================\n",
            "Total params: 669,706\n",
            "Trainable params: 669,706\n",
            "Non-trainable params: 0\n",
            "_________________________________________________________________\n"
          ]
        }
      ]
    },
    {
      "cell_type": "code",
      "source": [
        "# Compiling the Model\n",
        "model.compile(loss='categorical_crossentropy', metrics=['accuracy'])"
      ],
      "metadata": {
        "id": "jMVwJytpHdyE"
      },
      "execution_count": null,
      "outputs": []
    },
    {
      "cell_type": "code",
      "source": [
        "# Training the Model\n",
        "# (fitting a model to data)\n",
        "history = model.fit(\n",
        "    x_train, y_train, epochs=5, verbose=1, validation_data=(x_valid, y_valid)\n",
        ")"
      ],
      "metadata": {
        "colab": {
          "base_uri": "https://localhost:8080/"
        },
        "id": "vdgkTWonHtMy",
        "outputId": "3309c892-8bcc-4223-bcbc-521e24116a46"
      },
      "execution_count": null,
      "outputs": [
        {
          "output_type": "stream",
          "name": "stdout",
          "text": [
            "Epoch 1/5\n",
            "1875/1875 [==============================] - 23s 12ms/step - loss: 0.1920 - accuracy: 0.9428 - val_loss: 0.1147 - val_accuracy: 0.9697\n",
            "Epoch 2/5\n",
            "1875/1875 [==============================] - 21s 11ms/step - loss: 0.1014 - accuracy: 0.9732 - val_loss: 0.1087 - val_accuracy: 0.9764\n",
            "Epoch 3/5\n",
            "1875/1875 [==============================] - 22s 12ms/step - loss: 0.0851 - accuracy: 0.9796 - val_loss: 0.1449 - val_accuracy: 0.9720\n",
            "Epoch 4/5\n",
            "1875/1875 [==============================] - 30s 16ms/step - loss: 0.0741 - accuracy: 0.9833 - val_loss: 0.1162 - val_accuracy: 0.9772\n",
            "Epoch 5/5\n",
            "1875/1875 [==============================] - 22s 12ms/step - loss: 0.0669 - accuracy: 0.9859 - val_loss: 0.1447 - val_accuracy: 0.9795\n"
          ]
        }
      ]
    },
    {
      "cell_type": "markdown",
      "source": [
        "# Exercise"
      ],
      "metadata": {
        "id": "Vn2HoxknIqMR"
      }
    },
    {
      "cell_type": "code",
      "source": [
        "import numpy as np\n",
        "from numpy.polynomial.polynomial import polyfit\n",
        "import matplotlib.pyplot as plt\n",
        "\n",
        "m = 6  # -2 to start, change me please\n",
        "b = 10  # 40 to start, change me please\n",
        "\n",
        "# Sample data\n",
        "x = np.array([ 0,  1,  2,  3,  4,  5,  6,  7,  8,  9])\n",
        "y = np.array([10, 20, 25, 30, 40, 45, 40, 50, 60, 55])\n",
        "y_hat = x * m + b\n",
        "\n",
        "plt.plot(x, y, '.')\n",
        "plt.plot(x, y_hat, '-')\n",
        "plt.show()\n",
        "\n",
        "# y = x*m + b\n",
        "# 10 = 0*m + b -- 10 = b\n",
        "# 20 = 1*m + b -- 20 = m + b\n",
        "# ----------------------------\n",
        "# 20 = m + 10\n",
        "#  m = 10, b = 10\n",
        "# overfitting wkwk, cuman 2 data awal yg diambil\n",
        "\n",
        "# mari kita coba data awal dan akhir\n",
        "# y = x*m + b\n",
        "# 10 = 0*m + b -- 10 = b\n",
        "# 55 = 9*m + b -- 55 = 9m + b\n",
        "# ----------------------------\n",
        "# 9m = 45\n",
        "# m = 5, b = 10\n",
        "# Loss: 40.0\n",
        "\n",
        "# mari kita coba data awal dan akhir\n",
        "# y = x*m + b\n",
        "# 10 = 0*m + b -- 10 = b\n",
        "# 58 = 9*m + b -- 58 = 9m + b\n",
        "# ----------------------------\n",
        "# 9m = 48\n",
        "# m = 6,44, b = 10\n",
        "# Loss: 40.0\n",
        "\n",
        "# m = 6, b = 10\n",
        "# Loss: 21.5\n",
        "\n",
        "# mari kita coba data awal dan akhir\n",
        "# y = x*m + b\n",
        "# 12 = 0*m + b -- 12 = b\n",
        "# 56 = 9*m + b -- 56 = 9m + b\n",
        "# ----------------------------\n",
        "# 9m = 44\n",
        "# m = 4,88, b = 12\n",
        "# Loss: \n",
        "\n",
        "print(\"Loss:\", np.sum((y - y_hat)**2)/len(x))"
      ],
      "metadata": {
        "colab": {
          "base_uri": "https://localhost:8080/",
          "height": 282
        },
        "id": "Re2N4GaWH7ec",
        "outputId": "e76712c1-ad54-41da-c024-e66e52fcb271"
      },
      "execution_count": null,
      "outputs": [
        {
          "output_type": "display_data",
          "data": {
            "text/plain": [
              "<Figure size 432x288 with 1 Axes>"
            ],
            "image/png": "[encoded data removed]"
          },
          "metadata": {
            "needs_background": "light"
          }
        },
        {
          "output_type": "stream",
          "name": "stdout",
          "text": [
            "Loss: 21.5\n"
          ]
        }
      ]
    },
    {
      "cell_type": "markdown",
      "source": [
        "# **2: The Theory Behind Neural Networks**"
      ],
      "metadata": {
        "id": "HWLWafxFk09w"
      }
    },
    {
      "cell_type": "markdown",
      "source": [
        "Recap last material\n",
        "\n",
        "\n",
        "1.   Loaded and visualized our data\n",
        "2.   Edited our data (reshaped, normalized, to categorical)\n",
        "3. Create model\n",
        "4. Compiled model\n",
        "5. Trained the model on our data\n",
        "\n",
        "\"Traditional regression\"\n",
        "\n",
        "If we use too big model, we can wasting a lot of computational resources an take longer to train\n",
        "\n",
        "Training vs validation data\n",
        "\n",
        "\"loss function, cost function\"\n",
        "\n",
        "The error function that we used to calculate our gradient descent\n",
        "Is called the loss function or cost function\n",
        "\n",
        "CROSS ENT : y hat is our prediction that a point is blue\n",
        "And y actual is whether a point was actually blue or not\n",
        "The logarithms are what will push our code to Infinity\n",
        "as log(0) is negative infinity\n",
        "\n",
        "\n",
        "\n"
      ],
      "metadata": {
        "id": "WQ8-f6XElkby"
      }
    },
    {
      "cell_type": "markdown",
      "source": [
        "### Image Classification of an American Sign Language Dataset"
      ],
      "metadata": {
        "id": "oaTdAhuAEOYa"
      }
    },
    {
      "cell_type": "markdown",
      "source": [
        "Reading in the Data"
      ],
      "metadata": {
        "id": "hzi9P2g9E-FW"
      }
    },
    {
      "cell_type": "code",
      "source": [
        "import pandas as pd #to work and load the csv dataset, for loading and manipulating data\n",
        "\n",
        "train_df = pd.read_csv(\"sample_data/sign_mnist_train.csv\")\n",
        "valid_df = pd.read_csv(\"sample_data/sign_mnist_valid.csv\")"
      ],
      "metadata": {
        "id": "yeN4KiiILTLH"
      },
      "execution_count": null,
      "outputs": []
    },
    {
      "cell_type": "markdown",
      "source": [
        "Exploring the data"
      ],
      "metadata": {
        "id": "0FeYdH3IHqFA"
      }
    },
    {
      "cell_type": "code",
      "source": [
        "train_df.head()"
      ],
      "metadata": {
        "id": "uw7Yg54-FQEb",
        "colab": {
          "base_uri": "https://localhost:8080/",
          "height": 299
        },
        "outputId": "47720315-aced-415b-c756-07005910488f"
      },
      "execution_count": null,
      "outputs": [
        {
          "output_type": "execute_result",
          "data": {
            "text/plain": [
              "   label  pixel1  pixel2  pixel3  pixel4  pixel5  pixel6  pixel7  pixel8  \\\n",
              "0      3     107     118     127     134     139     143     146     150   \n",
              "1      6     155     157     156     156     156     157     156     158   \n",
              "2      2     187     188     188     187     187     186     187     188   \n",
              "3      2     211     211     212     212     211     210     211     210   \n",
              "4     12     164     167     170     172     176     179     180     184   \n",
              "\n",
              "   pixel9  ...  pixel775  pixel776  pixel777  pixel778  pixel779  pixel780  \\\n",
              "0     153  ...       207       207       207       207       206       206   \n",
              "1     158  ...        69       149       128        87        94       163   \n",
              "2     187  ...       202       201       200       199       198       199   \n",
              "3     210  ...       235       234       233       231       230       226   \n",
              "4     185  ...        92       105       105       108       133       163   \n",
              "\n",
              "   pixel781  pixel782  pixel783  pixel784  \n",
              "0       206       204       203       202  \n",
              "1       175       103       135       149  \n",
              "2       198       195       194       195  \n",
              "3       225       222       229       163  \n",
              "4       157       163       164       179  \n",
              "\n",
              "[5 rows x 785 columns]"
            ],
            "text/html": [
              "\n",
              "  <div id=\"df-2a36ade6-7762-40a5-b601-f376afcf5bab\">\n",
              "    <div class=\"colab-df-container\">\n",
              "      <div>\n",
              "<style scoped>\n",
              "    .dataframe tbody tr th:only-of-type {\n",
              "        vertical-align: middle;\n",
              "    }\n",
              "\n",
              "    .dataframe tbody tr th {\n",
              "        vertical-align: top;\n",
              "    }\n",
              "\n",
              "    .dataframe thead th {\n",
              "        text-align: right;\n",
              "    }\n",
              "</style>\n",
              "<table border=\"1\" class=\"dataframe\">\n",
              "  <thead>\n",
              "    <tr style=\"text-align: right;\">\n",
              "      <th></th>\n",
              "      <th>label</th>\n",
              "      <th>pixel1</th>\n",
              "      <th>pixel2</th>\n",
              "      <th>pixel3</th>\n",
              "      <th>pixel4</th>\n",
              "      <th>pixel5</th>\n",
              "      <th>pixel6</th>\n",
              "      <th>pixel7</th>\n",
              "      <th>pixel8</th>\n",
              "      <th>pixel9</th>\n",
              "      <th>...</th>\n",
              "      <th>pixel775</th>\n",
              "      <th>pixel776</th>\n",
              "      <th>pixel777</th>\n",
              "      <th>pixel778</th>\n",
              "      <th>pixel779</th>\n",
              "      <th>pixel780</th>\n",
              "      <th>pixel781</th>\n",
              "      <th>pixel782</th>\n",
              "      <th>pixel783</th>\n",
              "      <th>pixel784</th>\n",
              "    </tr>\n",
              "  </thead>\n",
              "  <tbody>\n",
              "    <tr>\n",
              "      <th>0</th>\n",
              "      <td>3</td>\n",
              "      <td>107</td>\n",
              "      <td>118</td>\n",
              "      <td>127</td>\n",
              "      <td>134</td>\n",
              "      <td>139</td>\n",
              "      <td>143</td>\n",
              "      <td>146</td>\n",
              "      <td>150</td>\n",
              "      <td>153</td>\n",
              "      <td>...</td>\n",
              "      <td>207</td>\n",
              "      <td>207</td>\n",
              "      <td>207</td>\n",
              "      <td>207</td>\n",
              "      <td>206</td>\n",
              "      <td>206</td>\n",
              "      <td>206</td>\n",
              "      <td>204</td>\n",
              "      <td>203</td>\n",
              "      <td>202</td>\n",
              "    </tr>\n",
              "    <tr>\n",
              "      <th>1</th>\n",
              "      <td>6</td>\n",
              "      <td>155</td>\n",
              "      <td>157</td>\n",
              "      <td>156</td>\n",
              "      <td>156</td>\n",
              "      <td>156</td>\n",
              "      <td>157</td>\n",
              "      <td>156</td>\n",
              "      <td>158</td>\n",
              "      <td>158</td>\n",
              "      <td>...</td>\n",
              "      <td>69</td>\n",
              "      <td>149</td>\n",
              "      <td>128</td>\n",
              "      <td>87</td>\n",
              "      <td>94</td>\n",
              "      <td>163</td>\n",
              "      <td>175</td>\n",
              "      <td>103</td>\n",
              "      <td>135</td>\n",
              "      <td>149</td>\n",
              "    </tr>\n",
              "    <tr>\n",
              "      <th>2</th>\n",
              "      <td>2</td>\n",
              "      <td>187</td>\n",
              "      <td>188</td>\n",
              "      <td>188</td>\n",
              "      <td>187</td>\n",
              "      <td>187</td>\n",
              "      <td>186</td>\n",
              "      <td>187</td>\n",
              "      <td>188</td>\n",
              "      <td>187</td>\n",
              "      <td>...</td>\n",
              "      <td>202</td>\n",
              "      <td>201</td>\n",
              "      <td>200</td>\n",
              "      <td>199</td>\n",
              "      <td>198</td>\n",
              "      <td>199</td>\n",
              "      <td>198</td>\n",
              "      <td>195</td>\n",
              "      <td>194</td>\n",
              "      <td>195</td>\n",
              "    </tr>\n",
              "    <tr>\n",
              "      <th>3</th>\n",
              "      <td>2</td>\n",
              "      <td>211</td>\n",
              "      <td>211</td>\n",
              "      <td>212</td>\n",
              "      <td>212</td>\n",
              "      <td>211</td>\n",
              "      <td>210</td>\n",
              "      <td>211</td>\n",
              "      <td>210</td>\n",
              "      <td>210</td>\n",
              "      <td>...</td>\n",
              "      <td>235</td>\n",
              "      <td>234</td>\n",
              "      <td>233</td>\n",
              "      <td>231</td>\n",
              "      <td>230</td>\n",
              "      <td>226</td>\n",
              "      <td>225</td>\n",
              "      <td>222</td>\n",
              "      <td>229</td>\n",
              "      <td>163</td>\n",
              "    </tr>\n",
              "    <tr>\n",
              "      <th>4</th>\n",
              "      <td>12</td>\n",
              "      <td>164</td>\n",
              "      <td>167</td>\n",
              "      <td>170</td>\n",
              "      <td>172</td>\n",
              "      <td>176</td>\n",
              "      <td>179</td>\n",
              "      <td>180</td>\n",
              "      <td>184</td>\n",
              "      <td>185</td>\n",
              "      <td>...</td>\n",
              "      <td>92</td>\n",
              "      <td>105</td>\n",
              "      <td>105</td>\n",
              "      <td>108</td>\n",
              "      <td>133</td>\n",
              "      <td>163</td>\n",
              "      <td>157</td>\n",
              "      <td>163</td>\n",
              "      <td>164</td>\n",
              "      <td>179</td>\n",
              "    </tr>\n",
              "  </tbody>\n",
              "</table>\n",
              "<p>5 rows × 785 columns</p>\n",
              "</div>\n",
              "      <button class=\"colab-df-convert\" onclick=\"convertToInteractive('df-2a36ade6-7762-40a5-b601-f376afcf5bab')\"\n",
              "              title=\"Convert this dataframe to an interactive table.\"\n",
              "              style=\"display:none;\">\n",
              "        \n",
              "  <svg xmlns=\"http://www.w3.org/2000/svg\" height=\"24px\"viewBox=\"0 0 24 24\"\n",
              "       width=\"24px\">\n",
              "    <path d=\"M0 0h24v24H0V0z\" fill=\"none\"/>\n",
              "    <path d=\"M18.56 5.44l.94 2.06.94-2.06 2.06-.94-2.06-.94-.94-2.06-.94 2.06-2.06.94zm-11 1L8.5 8.5l.94-2.06 2.06-.94-2.06-.94L8.5 2.5l-.94 2.06-2.06.94zm10 10l.94 2.06.94-2.06 2.06-.94-2.06-.94-.94-2.06-.94 2.06-2.06.94z\"/><path d=\"M17.41 7.96l-1.37-1.37c-.4-.4-.92-.59-1.43-.59-.52 0-1.04.2-1.43.59L10.3 9.45l-7.72 7.72c-.78.78-.78 2.05 0 2.83L4 21.41c.39.39.9.59 1.41.59.51 0 1.02-.2 1.41-.59l7.78-7.78 2.81-2.81c.8-.78.8-2.07 0-2.86zM5.41 20L4 18.59l7.72-7.72 1.47 1.35L5.41 20z\"/>\n",
              "  </svg>\n",
              "      </button>\n",
              "      \n",
              "  <style>\n",
              "    .colab-df-container {\n",
              "      display:flex;\n",
              "      flex-wrap:wrap;\n",
              "      gap: 12px;\n",
              "    }\n",
              "\n",
              "    .colab-df-convert {\n",
              "      background-color: #E8F0FE;\n",
              "      border: none;\n",
              "      border-radius: 50%;\n",
              "      cursor: pointer;\n",
              "      display: none;\n",
              "      fill: #1967D2;\n",
              "      height: 32px;\n",
              "      padding: 0 0 0 0;\n",
              "      width: 32px;\n",
              "    }\n",
              "\n",
              "    .colab-df-convert:hover {\n",
              "      background-color: #E2EBFA;\n",
              "      box-shadow: 0px 1px 2px rgba(60, 64, 67, 0.3), 0px 1px 3px 1px rgba(60, 64, 67, 0.15);\n",
              "      fill: #174EA6;\n",
              "    }\n",
              "\n",
              "    [theme=dark] .colab-df-convert {\n",
              "      background-color: #3B4455;\n",
              "      fill: #D2E3FC;\n",
              "    }\n",
              "\n",
              "    [theme=dark] .colab-df-convert:hover {\n",
              "      background-color: #434B5C;\n",
              "      box-shadow: 0px 1px 3px 1px rgba(0, 0, 0, 0.15);\n",
              "      filter: drop-shadow(0px 1px 2px rgba(0, 0, 0, 0.3));\n",
              "      fill: #FFFFFF;\n",
              "    }\n",
              "  </style>\n",
              "\n",
              "      <script>\n",
              "        const buttonEl =\n",
              "          document.querySelector('#df-2a36ade6-7762-40a5-b601-f376afcf5bab button.colab-df-convert');\n",
              "        buttonEl.style.display =\n",
              "          google.colab.kernel.accessAllowed ? 'block' : 'none';\n",
              "\n",
              "        async function convertToInteractive(key) {\n",
              "          const element = document.querySelector('#df-2a36ade6-7762-40a5-b601-f376afcf5bab');\n",
              "          const dataTable =\n",
              "            await google.colab.kernel.invokeFunction('convertToInteractive',\n",
              "                                                     [key], {});\n",
              "          if (!dataTable) return;\n",
              "\n",
              "          const docLinkHtml = 'Like what you see? Visit the ' +\n",
              "            '<a target=\"_blank\" href=https://colab.research.google.com/notebooks/data_table.ipynb>data table notebook</a>'\n",
              "            + ' to learn more about interactive tables.';\n",
              "          element.innerHTML = '';\n",
              "          dataTable['output_type'] = 'display_data';\n",
              "          await google.colab.output.renderOutput(dataTable, element);\n",
              "          const docLink = document.createElement('div');\n",
              "          docLink.innerHTML = docLinkHtml;\n",
              "          element.appendChild(docLink);\n",
              "        }\n",
              "      </script>\n",
              "    </div>\n",
              "  </div>\n",
              "  "
            ]
          },
          "metadata": {},
          "execution_count": 11
        }
      ]
    },
    {
      "cell_type": "markdown",
      "source": [
        "Extracting the labels"
      ],
      "metadata": {
        "id": "GE58y81wHwqs"
      }
    },
    {
      "cell_type": "code",
      "source": [
        "y_train = train_df['label']\n",
        "y_valid = valid_df['label']\n",
        "del train_df['label'] #delete the label from original database\n",
        "del valid_df['label']"
      ],
      "metadata": {
        "id": "yDON0FiGJUvL"
      },
      "execution_count": null,
      "outputs": []
    },
    {
      "cell_type": "markdown",
      "source": [
        "Extracting the Images"
      ],
      "metadata": {
        "id": "zYNoqsCcqplW"
      }
    },
    {
      "cell_type": "code",
      "source": [
        "x_train = train_df.values\n",
        "x_valid = valid_df.values"
      ],
      "metadata": {
        "id": "j2zhpKpPqoPA"
      },
      "execution_count": null,
      "outputs": []
    },
    {
      "cell_type": "markdown",
      "source": [
        "Summarizing the training and validation data"
      ],
      "metadata": {
        "id": "K-PTg1bvrNe-"
      }
    },
    {
      "cell_type": "code",
      "source": [
        "x_train.shape\n",
        "# now we have 27.455 images dengan 784 pixels each for training"
      ],
      "metadata": {
        "id": "UWCj6EJtJXfW",
        "colab": {
          "base_uri": "https://localhost:8080/"
        },
        "outputId": "58b0044e-edb0-400d-d086-459d59b08a72"
      },
      "execution_count": null,
      "outputs": [
        {
          "output_type": "execute_result",
          "data": {
            "text/plain": [
              "(27455, 784)"
            ]
          },
          "metadata": {},
          "execution_count": 15
        }
      ]
    },
    {
      "cell_type": "code",
      "source": [
        "y_train.shape"
      ],
      "metadata": {
        "colab": {
          "base_uri": "https://localhost:8080/"
        },
        "id": "DTjAcPQJrVhB",
        "outputId": "d9ecc032-7ffc-4b64-d3a9-aebca2e02124"
      },
      "execution_count": null,
      "outputs": [
        {
          "output_type": "execute_result",
          "data": {
            "text/plain": [
              "(27455,)"
            ]
          },
          "metadata": {},
          "execution_count": 16
        }
      ]
    },
    {
      "cell_type": "code",
      "source": [
        "# for validation we have 7172 image\n",
        "x_valid.shape"
      ],
      "metadata": {
        "colab": {
          "base_uri": "https://localhost:8080/"
        },
        "id": "5qTSE04grntt",
        "outputId": "ae750f55-7302-48d1-ea44-3ef278555a1e"
      },
      "execution_count": null,
      "outputs": [
        {
          "output_type": "execute_result",
          "data": {
            "text/plain": [
              "(7172, 784)"
            ]
          },
          "metadata": {},
          "execution_count": 18
        }
      ]
    },
    {
      "cell_type": "code",
      "source": [
        "y_valid.shape"
      ],
      "metadata": {
        "colab": {
          "base_uri": "https://localhost:8080/"
        },
        "id": "S6-RBVAPruvI",
        "outputId": "2eb59844-c947-4ea8-a5c0-0e91ad29812b"
      },
      "execution_count": null,
      "outputs": [
        {
          "output_type": "execute_result",
          "data": {
            "text/plain": [
              "(7172,)"
            ]
          },
          "metadata": {},
          "execution_count": 19
        }
      ]
    },
    {
      "cell_type": "markdown",
      "source": [
        "Visualizing the data"
      ],
      "metadata": {
        "id": "LUCQ5kTZr2a_"
      }
    },
    {
      "cell_type": "code",
      "source": [
        "import matplotlib.pyplot as plt\n",
        "plt.figure(figsize=(40,40))\n",
        "\n",
        "num_images = 20\n",
        "for i in range(num_images):\n",
        "    row = x_train[i]\n",
        "    label = y_train[i]\n",
        "    \n",
        "    image = row.reshape(28,28)\n",
        "    plt.subplot(1, num_images, i+1)\n",
        "    plt.title(label, fontdict={'fontsize': 30})\n",
        "    plt.axis('off')\n",
        "    plt.imshow(image, cmap='gray')"
      ],
      "metadata": {
        "colab": {
          "base_uri": "https://localhost:8080/",
          "height": 55
        },
        "id": "qvp8v1TCrzdR",
        "outputId": "3a06d16f-3f6f-4894-ce31-f6e43dc1fec0"
      },
      "execution_count": null,
      "outputs": [
        {
          "output_type": "display_data",
          "data": {
            "text/plain": [
              "<Figure size 2880x2880 with 20 Axes>"
            ],
            "image/png": "[encoded data removed]"
          },
          "metadata": {
            "needs_background": "light"
          }
        }
      ]
    },
    {
      "cell_type": "markdown",
      "source": [
        "**Excercise : Normalize the image data**"
      ],
      "metadata": {
        "id": "fDLD14lrsFwh"
      }
    },
    {
      "cell_type": "code",
      "source": [
        "x_train.min()"
      ],
      "metadata": {
        "colab": {
          "base_uri": "https://localhost:8080/"
        },
        "id": "RzInK8Mvr7H0",
        "outputId": "88f6c3bd-4c37-4889-97ca-827f85b8bf37"
      },
      "execution_count": null,
      "outputs": [
        {
          "output_type": "execute_result",
          "data": {
            "text/plain": [
              "0"
            ]
          },
          "metadata": {},
          "execution_count": 21
        }
      ]
    },
    {
      "cell_type": "code",
      "source": [
        "x_train.max()"
      ],
      "metadata": {
        "colab": {
          "base_uri": "https://localhost:8080/"
        },
        "id": "FhuIk6cYsUyn",
        "outputId": "f628de43-1c9a-400c-ec2a-9b1e6fda6c00"
      },
      "execution_count": null,
      "outputs": [
        {
          "output_type": "execute_result",
          "data": {
            "text/plain": [
              "255"
            ]
          },
          "metadata": {},
          "execution_count": 22
        }
      ]
    },
    {
      "cell_type": "code",
      "source": [
        "# TODO: Normalize x_train and x_valid.\n",
        "\n",
        "x_train = x_train/255\n",
        "x_valid = x_valid/255\n",
        "\n",
        "print(\"x_train.dtype : \",x_train.dtype)\n",
        "print(\"x_train.min() : \", x_train.min())\n",
        "print(\"x_train.max() : \",x_train.max())\n",
        "\n",
        "# print(\" x_train : \")\n",
        "# x_train.shape\n",
        "# print(\" y_train : \")\n",
        "# x_valid.shape"
      ],
      "metadata": {
        "colab": {
          "base_uri": "https://localhost:8080/"
        },
        "id": "X82RLuZ8sW3G",
        "outputId": "f6a2b185-28b9-4885-f75d-5defb3ded40a"
      },
      "execution_count": null,
      "outputs": [
        {
          "output_type": "stream",
          "name": "stdout",
          "text": [
            "x_train.dtype :  float64\n",
            "x_train.min() :  0.0\n",
            "x_train.max() :  6.030862941101084e-08\n"
          ]
        }
      ]
    },
    {
      "cell_type": "markdown",
      "source": [
        "**Exercise : Categorize the labels**"
      ],
      "metadata": {
        "id": "Y6bj88OCtTvL"
      }
    },
    {
      "cell_type": "code",
      "source": [
        "import tensorflow.keras as keras\n",
        "num_classes = 24"
      ],
      "metadata": {
        "id": "EpIny05ossDw"
      },
      "execution_count": null,
      "outputs": []
    },
    {
      "cell_type": "code",
      "source": [
        "# TODO: Categorically encode y_train and y_valid.\n",
        "\n",
        "y_train = keras.utils.to_categorical(y_train, num_classes)\n",
        "y_valid = keras.utils.to_categorical(y_valid, num_classes)"
      ],
      "metadata": {
        "id": "TQs7yzYItcVM"
      },
      "execution_count": null,
      "outputs": []
    },
    {
      "cell_type": "markdown",
      "source": [
        "**Exercise : Build the Model**"
      ],
      "metadata": {
        "id": "tWPsWx8xw57B"
      }
    },
    {
      "cell_type": "code",
      "source": [
        "# Creating the Model\n",
        "# Instantiating the Model\n",
        "from tensorflow.keras.models import Sequential\n",
        "\n",
        "model = Sequential()"
      ],
      "metadata": {
        "id": "zdcUJjJpw2dn"
      },
      "execution_count": null,
      "outputs": []
    },
    {
      "cell_type": "code",
      "source": [
        "# Creating the Input Layer\n",
        "from tensorflow.keras.layers import Dense"
      ],
      "metadata": {
        "id": "O-DBh7qizB4D"
      },
      "execution_count": null,
      "outputs": []
    },
    {
      "cell_type": "code",
      "source": [
        "# Dense input layer\n",
        "model.add(Dense(units=512, activation='relu', input_shape=(784,)))"
      ],
      "metadata": {
        "id": "0zWnKCRPyUfw"
      },
      "execution_count": null,
      "outputs": []
    },
    {
      "cell_type": "code",
      "source": [
        "# Creating the Hidden Layer\n",
        "model.add(Dense(units = 512, activation='relu'))"
      ],
      "metadata": {
        "id": "U4LAvRH6yef5"
      },
      "execution_count": null,
      "outputs": []
    },
    {
      "cell_type": "code",
      "source": [
        "# Creating the Output Layer\n",
        "model.add(Dense(units = num_classes, activation='softmax'))"
      ],
      "metadata": {
        "id": "O4o2FJXYygFW"
      },
      "execution_count": null,
      "outputs": []
    },
    {
      "cell_type": "markdown",
      "source": [
        "**Summarizing the Model**"
      ],
      "metadata": {
        "id": "0eId48pd0D24"
      }
    },
    {
      "cell_type": "code",
      "source": [
        "model.summary()"
      ],
      "metadata": {
        "colab": {
          "base_uri": "https://localhost:8080/"
        },
        "id": "5d4oO3uuyoON",
        "outputId": "1e6a5565-78b2-4465-d8b1-174d317b67ea"
      },
      "execution_count": null,
      "outputs": [
        {
          "output_type": "stream",
          "name": "stdout",
          "text": [
            "Model: \"sequential_1\"\n",
            "_________________________________________________________________\n",
            " Layer (type)                Output Shape              Param #   \n",
            "=================================================================\n",
            " dense (Dense)               (None, 512)               401920    \n",
            "                                                                 \n",
            " dense_1 (Dense)             (None, 512)               262656    \n",
            "                                                                 \n",
            " dense_2 (Dense)             (None, 10)                5130      \n",
            "                                                                 \n",
            " dense_3 (Dense)             (None, 24)                264       \n",
            "                                                                 \n",
            "=================================================================\n",
            "Total params: 669,970\n",
            "Trainable params: 669,970\n",
            "Non-trainable params: 0\n",
            "_________________________________________________________________\n"
          ]
        }
      ]
    },
    {
      "cell_type": "markdown",
      "source": [
        "**Compiling the Models**"
      ],
      "metadata": {
        "id": "kdIkzEVi0SvK"
      }
    },
    {
      "cell_type": "code",
      "source": [
        "model.compile(loss='categorical_crossentropy', metrics=['accuracy'])"
      ],
      "metadata": {
        "id": "rfJ5miLm0Kh4"
      },
      "execution_count": null,
      "outputs": []
    },
    {
      "cell_type": "markdown",
      "source": [
        "**Exercise : Train the Models**\n",
        "\n",
        "Terjadinya overfit, tertatu baik untuk training data, namun buruk untuk testing"
      ],
      "metadata": {
        "id": "sRIoq6ZA0eNE"
      }
    },
    {
      "cell_type": "code",
      "source": [
        "# TODO: Train the model for 20 epochs.\n",
        "history = model.fit(\n",
        "    x_train, y_train, epochs=20, verbose=1, validation_data=(x_valid, y_valid)\n",
        ")"
      ],
      "metadata": {
        "colab": {
          "base_uri": "https://localhost:8080/"
        },
        "id": "SNd505N30ZCT",
        "outputId": "d74b5cc1-9fed-45fa-facc-6781225cb8fe"
      },
      "execution_count": null,
      "outputs": [
        {
          "output_type": "stream",
          "name": "stdout",
          "text": [
            "Epoch 1/20\n",
            "858/858 [==============================] - 13s 13ms/step - loss: 1.3922 - accuracy: 0.9860 - val_loss: 4.1088 - val_accuracy: 0.0462\n",
            "Epoch 2/20\n",
            "858/858 [==============================] - 10s 12ms/step - loss: 0.1262 - accuracy: 1.0000 - val_loss: 6.9007 - val_accuracy: 0.0462\n",
            "Epoch 3/20\n",
            "858/858 [==============================] - 11s 12ms/step - loss: 0.0051 - accuracy: 1.0000 - val_loss: 10.0403 - val_accuracy: 0.0462\n",
            "Epoch 4/20\n",
            "858/858 [==============================] - 14s 17ms/step - loss: 1.8730e-04 - accuracy: 1.0000 - val_loss: 13.1535 - val_accuracy: 0.0462\n",
            "Epoch 5/20\n",
            "858/858 [==============================] - 11s 12ms/step - loss: 7.7207e-06 - accuracy: 1.0000 - val_loss: 15.7902 - val_accuracy: 0.0462\n",
            "Epoch 6/20\n",
            "858/858 [==============================] - 11s 13ms/step - loss: 6.1023e-07 - accuracy: 1.0000 - val_loss: 17.4697 - val_accuracy: 0.0462\n",
            "Epoch 7/20\n",
            "858/858 [==============================] - 10s 12ms/step - loss: 1.0421e-07 - accuracy: 1.0000 - val_loss: 18.3351 - val_accuracy: 0.0462\n",
            "Epoch 8/20\n",
            "858/858 [==============================] - 13s 15ms/step - loss: 0.0000e+00 - accuracy: 1.0000 - val_loss: 18.4034 - val_accuracy: 0.0462\n",
            "Epoch 9/20\n",
            "858/858 [==============================] - 12s 14ms/step - loss: 0.0000e+00 - accuracy: 1.0000 - val_loss: 18.4673 - val_accuracy: 0.0462\n",
            "Epoch 10/20\n",
            "858/858 [==============================] - 15s 17ms/step - loss: 0.0000e+00 - accuracy: 1.0000 - val_loss: 18.5273 - val_accuracy: 0.0462\n",
            "Epoch 11/20\n",
            "858/858 [==============================] - 12s 13ms/step - loss: 0.0000e+00 - accuracy: 1.0000 - val_loss: 18.5838 - val_accuracy: 0.0462\n",
            "Epoch 12/20\n",
            "858/858 [==============================] - 15s 17ms/step - loss: 0.0000e+00 - accuracy: 1.0000 - val_loss: 18.6373 - val_accuracy: 0.0462\n",
            "Epoch 13/20\n",
            "858/858 [==============================] - 12s 14ms/step - loss: 0.0000e+00 - accuracy: 1.0000 - val_loss: 18.6879 - val_accuracy: 0.0462\n",
            "Epoch 14/20\n",
            "858/858 [==============================] - 11s 13ms/step - loss: 0.0000e+00 - accuracy: 1.0000 - val_loss: 18.7361 - val_accuracy: 0.0462\n",
            "Epoch 15/20\n",
            "858/858 [==============================] - 11s 12ms/step - loss: 0.0000e+00 - accuracy: 1.0000 - val_loss: 18.7820 - val_accuracy: 0.0462\n",
            "Epoch 16/20\n",
            "858/858 [==============================] - 12s 14ms/step - loss: 0.0000e+00 - accuracy: 1.0000 - val_loss: 18.8258 - val_accuracy: 0.0462\n",
            "Epoch 17/20\n",
            "858/858 [==============================] - 11s 13ms/step - loss: 0.0000e+00 - accuracy: 1.0000 - val_loss: 18.8678 - val_accuracy: 0.0462\n",
            "Epoch 18/20\n",
            "858/858 [==============================] - 11s 13ms/step - loss: 0.0000e+00 - accuracy: 1.0000 - val_loss: 18.9080 - val_accuracy: 0.0462\n",
            "Epoch 19/20\n",
            "858/858 [==============================] - 12s 14ms/step - loss: 0.0000e+00 - accuracy: 1.0000 - val_loss: 18.9466 - val_accuracy: 0.0462\n",
            "Epoch 20/20\n",
            "858/858 [==============================] - 11s 13ms/step - loss: 0.0000e+00 - accuracy: 1.0000 - val_loss: 18.9838 - val_accuracy: 0.0462\n"
          ]
        }
      ]
    },
    {
      "cell_type": "markdown",
      "source": [
        "# **3: Convolutional Neural Networks**"
      ],
      "metadata": {
        "id": "dyvkO_n8r0YI"
      }
    },
    {
      "cell_type": "markdown",
      "source": [
        "**Loading and Preparing the Data**"
      ],
      "metadata": {
        "id": "La33-C2vsM9I"
      }
    },
    {
      "cell_type": "code",
      "source": [
        "import tensorflow.keras as keras\n",
        "import pandas as pd\n",
        "\n",
        "# Load in our data from CSV files\n",
        "train_df = pd.read_csv(\"sample_data/sign_mnist_train.csv\")\n",
        "valid_df = pd.read_csv(\"sample_data/sign_mnist_valid.csv\")\n",
        "\n",
        "# Separate out our target values\n",
        "y_train = train_df['label']\n",
        "y_valid = valid_df['label']\n",
        "del train_df['label']\n",
        "del valid_df['label']\n",
        "\n",
        "# Separate out our image vectors\n",
        "x_train = train_df.values\n",
        "x_valid = valid_df.values\n",
        "\n",
        "# Turn our scalar targets into binary categories\n",
        "num_classes = 24\n",
        "y_train = keras.utils.to_categorical(y_train, num_classes)\n",
        "y_valid = keras.utils.to_categorical(y_valid, num_classes)\n",
        "\n",
        "# Normalize our image data\n",
        "x_train = x_train / 255\n",
        "x_valid = x_valid / 255"
      ],
      "metadata": {
        "id": "OwvAcjB4sFAX"
      },
      "execution_count": null,
      "outputs": []
    },
    {
      "cell_type": "markdown",
      "source": [
        "Reshaping Images for a CNN"
      ],
      "metadata": {
        "id": "BuvbnabAy2-s"
      }
    },
    {
      "cell_type": "code",
      "source": [
        "x_train.shape, x_valid.shape"
      ],
      "metadata": {
        "colab": {
          "base_uri": "https://localhost:8080/"
        },
        "id": "ZFkjdbZMy0Xy",
        "outputId": "6e848b28-70a5-4d8c-dc79-27bb39364927"
      },
      "execution_count": null,
      "outputs": [
        {
          "output_type": "execute_result",
          "data": {
            "text/plain": [
              "((27455, 784), (7172, 784))"
            ]
          },
          "metadata": {},
          "execution_count": 48
        }
      ]
    },
    {
      "cell_type": "code",
      "source": [
        "x_train = x_train.reshape(-1,28,28,1)\n",
        "x_valid = x_valid.reshape(-1,28,28,1)"
      ],
      "metadata": {
        "id": "vow8rPJ1zVq9"
      },
      "execution_count": null,
      "outputs": []
    },
    {
      "cell_type": "code",
      "source": [
        "x_valid.shape"
      ],
      "metadata": {
        "colab": {
          "base_uri": "https://localhost:8080/"
        },
        "id": "OOftc0M3zaSo",
        "outputId": "72ec4664-60ce-4e5d-c96b-c478c90dd7ca"
      },
      "execution_count": null,
      "outputs": [
        {
          "output_type": "execute_result",
          "data": {
            "text/plain": [
              "(7172, 28, 28, 1)"
            ]
          },
          "metadata": {},
          "execution_count": 51
        }
      ]
    },
    {
      "cell_type": "code",
      "source": [
        "x_train.shape, x_valid.shape"
      ],
      "metadata": {
        "colab": {
          "base_uri": "https://localhost:8080/"
        },
        "id": "VY1v392izd1q",
        "outputId": "5b274e23-4a24-4615-9028-c20f7ace831a"
      },
      "execution_count": null,
      "outputs": [
        {
          "output_type": "execute_result",
          "data": {
            "text/plain": [
              "((27455, 28, 28, 1), (7172, 28, 28, 1))"
            ]
          },
          "metadata": {},
          "execution_count": 52
        }
      ]
    },
    {
      "cell_type": "markdown",
      "source": [
        " Creating a Convolutional Model"
      ],
      "metadata": {
        "id": "Na9hVVzxzjCI"
      }
    },
    {
      "cell_type": "code",
      "source": [
        "from tensorflow.keras.models import Sequential\n",
        "from tensorflow.keras.layers import (\n",
        "    Dense,\n",
        "    Conv2D,\n",
        "    MaxPool2D,\n",
        "    Flatten,\n",
        "    Dropout,\n",
        "    BatchNormalization,\n",
        ")\n",
        "\n",
        "model = Sequential()\n",
        "model.add(Conv2D(75, (3, 3), strides=1, padding=\"same\", activation=\"relu\", \n",
        "                 input_shape=(28, 28, 1)))\n",
        "model.add(BatchNormalization())\n",
        "model.add(MaxPool2D((2, 2), strides=2, padding=\"same\"))\n",
        "model.add(Conv2D(50, (3, 3), strides=1, padding=\"same\", activation=\"relu\"))\n",
        "model.add(Dropout(0.2))\n",
        "model.add(BatchNormalization())\n",
        "model.add(MaxPool2D((2, 2), strides=2, padding=\"same\"))\n",
        "model.add(Conv2D(25, (3, 3), strides=1, padding=\"same\", activation=\"relu\"))\n",
        "model.add(BatchNormalization())\n",
        "model.add(MaxPool2D((2, 2), strides=2, padding=\"same\"))\n",
        "model.add(Flatten())\n",
        "model.add(Dense(units=512, activation=\"relu\"))\n",
        "model.add(Dropout(0.3))\n",
        "model.add(Dense(units=num_classes, activation=\"softmax\"))"
      ],
      "metadata": {
        "id": "rYgzxuu3ziLk"
      },
      "execution_count": null,
      "outputs": []
    },
    {
      "cell_type": "markdown",
      "source": [
        "Summarizing the model"
      ],
      "metadata": {
        "id": "dOQj63mY0HVK"
      }
    },
    {
      "cell_type": "code",
      "source": [
        "model.summary()"
      ],
      "metadata": {
        "colab": {
          "base_uri": "https://localhost:8080/"
        },
        "id": "eTMju2y40MKh",
        "outputId": "0d2d34dd-2d1a-43ef-9f4c-858fae687257"
      },
      "execution_count": null,
      "outputs": [
        {
          "output_type": "stream",
          "name": "stdout",
          "text": [
            "Model: \"sequential_2\"\n",
            "_________________________________________________________________\n",
            " Layer (type)                Output Shape              Param #   \n",
            "=================================================================\n",
            " conv2d (Conv2D)             (None, 28, 28, 75)        750       \n",
            "                                                                 \n",
            " batch_normalization (BatchN  (None, 28, 28, 75)       300       \n",
            " ormalization)                                                   \n",
            "                                                                 \n",
            " max_pooling2d (MaxPooling2D  (None, 14, 14, 75)       0         \n",
            " )                                                               \n",
            "                                                                 \n",
            " conv2d_1 (Conv2D)           (None, 14, 14, 50)        33800     \n",
            "                                                                 \n",
            " dropout (Dropout)           (None, 14, 14, 50)        0         \n",
            "                                                                 \n",
            " batch_normalization_1 (Batc  (None, 14, 14, 50)       200       \n",
            " hNormalization)                                                 \n",
            "                                                                 \n",
            " max_pooling2d_1 (MaxPooling  (None, 7, 7, 50)         0         \n",
            " 2D)                                                             \n",
            "                                                                 \n",
            " conv2d_2 (Conv2D)           (None, 7, 7, 25)          11275     \n",
            "                                                                 \n",
            " batch_normalization_2 (Batc  (None, 7, 7, 25)         100       \n",
            " hNormalization)                                                 \n",
            "                                                                 \n",
            " max_pooling2d_2 (MaxPooling  (None, 4, 4, 25)         0         \n",
            " 2D)                                                             \n",
            "                                                                 \n",
            " flatten (Flatten)           (None, 400)               0         \n",
            "                                                                 \n",
            " dense_4 (Dense)             (None, 512)               205312    \n",
            "                                                                 \n",
            " dropout_1 (Dropout)         (None, 512)               0         \n",
            "                                                                 \n",
            " dense_5 (Dense)             (None, 24)                12312     \n",
            "                                                                 \n",
            "=================================================================\n",
            "Total params: 264,049\n",
            "Trainable params: 263,749\n",
            "Non-trainable params: 300\n",
            "_________________________________________________________________\n"
          ]
        }
      ]
    },
    {
      "cell_type": "markdown",
      "source": [
        "Compiling the model"
      ],
      "metadata": {
        "id": "LjrWWQzL0RFL"
      }
    },
    {
      "cell_type": "code",
      "source": [
        "model.compile(loss=\"categorical_crossentropy\", metrics=[\"accuracy\"])"
      ],
      "metadata": {
        "id": "HeWR2mjf0VIf"
      },
      "execution_count": null,
      "outputs": []
    },
    {
      "cell_type": "markdown",
      "source": [
        "Training the model"
      ],
      "metadata": {
        "id": "0lR7_4P40ZHw"
      }
    },
    {
      "cell_type": "code",
      "source": [
        "model.fit(x_train, y_train, epochs=20, verbose=1, validation_data=(x_valid, y_valid))"
      ],
      "metadata": {
        "colab": {
          "base_uri": "https://localhost:8080/"
        },
        "id": "7Z0OiUr20bi2",
        "outputId": "66304883-87a7-4b38-c0bd-8c1860f9b499"
      },
      "execution_count": null,
      "outputs": [
        {
          "output_type": "stream",
          "name": "stdout",
          "text": [
            "Epoch 1/20\n",
            "858/858 [==============================] - 118s 135ms/step - loss: 0.3183 - accuracy: 0.9027 - val_loss: 0.2589 - val_accuracy: 0.9156\n",
            "Epoch 2/20\n",
            "858/858 [==============================] - 115s 134ms/step - loss: 0.0206 - accuracy: 0.9936 - val_loss: 1.2487 - val_accuracy: 0.7658\n",
            "Epoch 3/20\n",
            "858/858 [==============================] - 116s 135ms/step - loss: 0.0097 - accuracy: 0.9970 - val_loss: 0.2001 - val_accuracy: 0.9476\n",
            "Epoch 4/20\n",
            "858/858 [==============================] - 113s 132ms/step - loss: 0.0062 - accuracy: 0.9983 - val_loss: 0.2226 - val_accuracy: 0.9505\n",
            "Epoch 5/20\n",
            "858/858 [==============================] - 114s 133ms/step - loss: 0.0065 - accuracy: 0.9983 - val_loss: 0.2558 - val_accuracy: 0.9477\n",
            "Epoch 6/20\n",
            "858/858 [==============================] - 116s 136ms/step - loss: 0.0036 - accuracy: 0.9990 - val_loss: 0.5155 - val_accuracy: 0.9257\n",
            "Epoch 7/20\n",
            "858/858 [==============================] - 116s 135ms/step - loss: 0.0047 - accuracy: 0.9987 - val_loss: 0.1853 - val_accuracy: 0.9664\n",
            "Epoch 8/20\n",
            "858/858 [==============================] - 118s 138ms/step - loss: 0.0031 - accuracy: 0.9991 - val_loss: 0.2028 - val_accuracy: 0.9568\n",
            "Epoch 9/20\n",
            "858/858 [==============================] - 115s 134ms/step - loss: 0.0039 - accuracy: 0.9989 - val_loss: 0.2496 - val_accuracy: 0.9506\n",
            "Epoch 10/20\n",
            "858/858 [==============================] - 116s 135ms/step - loss: 0.0021 - accuracy: 0.9995 - val_loss: 1.2806 - val_accuracy: 0.8494\n",
            "Epoch 11/20\n",
            "858/858 [==============================] - 118s 137ms/step - loss: 0.0017 - accuracy: 0.9996 - val_loss: 0.3157 - val_accuracy: 0.9502\n",
            "Epoch 12/20\n",
            "858/858 [==============================] - 113s 132ms/step - loss: 0.0030 - accuracy: 0.9991 - val_loss: 0.2300 - val_accuracy: 0.9642\n",
            "Epoch 13/20\n",
            "858/858 [==============================] - 112s 131ms/step - loss: 0.0017 - accuracy: 0.9995 - val_loss: 0.3712 - val_accuracy: 0.9540\n",
            "Epoch 14/20\n",
            "858/858 [==============================] - 113s 132ms/step - loss: 0.0026 - accuracy: 0.9994 - val_loss: 0.2305 - val_accuracy: 0.9654\n",
            "Epoch 15/20\n",
            "858/858 [==============================] - 111s 129ms/step - loss: 0.0013 - accuracy: 0.9997 - val_loss: 0.2232 - val_accuracy: 0.9624\n",
            "Epoch 16/20\n",
            "858/858 [==============================] - 110s 129ms/step - loss: 6.7722e-04 - accuracy: 0.9997 - val_loss: 0.2936 - val_accuracy: 0.9640\n",
            "Epoch 17/20\n",
            "858/858 [==============================] - 112s 131ms/step - loss: 9.8951e-04 - accuracy: 0.9997 - val_loss: 0.1875 - val_accuracy: 0.9650\n",
            "Epoch 18/20\n",
            "858/858 [==============================] - 112s 131ms/step - loss: 0.0025 - accuracy: 0.9997 - val_loss: 0.1799 - val_accuracy: 0.9748\n",
            "Epoch 19/20\n",
            "858/858 [==============================] - 112s 130ms/step - loss: 9.6410e-04 - accuracy: 0.9997 - val_loss: 0.2271 - val_accuracy: 0.9695\n",
            "Epoch 20/20\n",
            "858/858 [==============================] - 113s 131ms/step - loss: 0.0022 - accuracy: 0.9996 - val_loss: 0.2754 - val_accuracy: 0.9642\n"
          ]
        },
        {
          "output_type": "execute_result",
          "data": {
            "text/plain": [
              "<keras.callbacks.History at 0x7f498216b700>"
            ]
          },
          "metadata": {},
          "execution_count": 56
        }
      ]
    },
    {
      "cell_type": "markdown",
      "source": [
        "It looks like this model is significantly improved! The training accuracy is very high, and the validation accuracy has improved as well. This is a great result, as all we had to do was swap in a new model."
      ],
      "metadata": {
        "id": "h9jtAHK_0lYk"
      }
    },
    {
      "cell_type": "code",
      "source": [
        "x_train.shape"
      ],
      "metadata": {
        "colab": {
          "base_uri": "https://localhost:8080/"
        },
        "id": "6idMCiqlzX6y",
        "outputId": "2e2e54c0-8def-4c8c-b525-157b678e970f"
      },
      "execution_count": null,
      "outputs": [
        {
          "output_type": "execute_result",
          "data": {
            "text/plain": [
              "(27455, 28, 28, 1)"
            ]
          },
          "metadata": {},
          "execution_count": 50
        }
      ]
    },
    {
      "cell_type": "markdown",
      "source": [
        "# **4: Data Augmentation and Deployment**"
      ],
      "metadata": {
        "id": "nFpL2ASzroZO"
      }
    },
    {
      "cell_type": "markdown",
      "source": [
        "In order to teach our model to be more robust when looking at new data, we're going to programmatically increase the size and variance in our dataset. This is known as data augmentation, a useful technique for many deep learning applications."
      ],
      "metadata": {
        "id": "9SKGMq53rwp1"
      }
    },
    {
      "cell_type": "markdown",
      "source": [
        "Preparing the data"
      ],
      "metadata": {
        "id": "KQQGkqpvYZ6G"
      }
    },
    {
      "cell_type": "code",
      "source": [
        "import tensorflow.keras as keras\n",
        "import pandas as pd\n",
        "\n",
        "# Load in our data from CSV files\n",
        "train_df = pd.read_csv(\"sample_data/sign_mnist_train.csv\")\n",
        "valid_df = pd.read_csv(\"sample_data/sign_mnist_valid.csv\")\n",
        "\n",
        "# Separate out our target values\n",
        "y_train = train_df['label']\n",
        "y_valid = valid_df['label']\n",
        "del train_df['label']\n",
        "del valid_df['label']\n",
        "\n",
        "# Separate our our image vectors\n",
        "x_train = train_df.values\n",
        "x_valid = valid_df.values\n",
        "\n",
        "# Turn our scalar targets into binary categories\n",
        "num_classes = 24\n",
        "y_train = keras.utils.to_categorical(y_train, num_classes)\n",
        "y_valid = keras.utils.to_categorical(y_valid, num_classes)\n",
        "\n",
        "# Normalize our image data\n",
        "x_train = x_train / 255\n",
        "x_valid = x_valid / 255\n",
        "\n",
        "# Reshape the image data for the convolutional network\n",
        "x_train = x_train.reshape(-1,28,28,1)\n",
        "x_valid = x_valid.reshape(-1,28,28,1)"
      ],
      "metadata": {
        "id": "m_gDTXdb0jfX"
      },
      "execution_count": null,
      "outputs": []
    },
    {
      "cell_type": "markdown",
      "source": [
        "Model Creation"
      ],
      "metadata": {
        "id": "cjR1o_j9AOeG"
      }
    },
    {
      "cell_type": "code",
      "source": [
        "from tensorflow.keras.models import Sequential\n",
        "from tensorflow.keras.layers import (\n",
        "    Dense,\n",
        "    Conv2D,\n",
        "    MaxPool2D,\n",
        "    Flatten,\n",
        "    Dropout,\n",
        "    BatchNormalization,\n",
        ")\n",
        "\n",
        "model = Sequential()\n",
        "model.add(Conv2D(75, (3, 3), strides=1, padding=\"same\", activation=\"relu\", \n",
        "                 input_shape=(28, 28, 1)))\n",
        "model.add(BatchNormalization())\n",
        "model.add(MaxPool2D((2, 2), strides=2, padding=\"same\"))\n",
        "model.add(Conv2D(50, (3, 3), strides=1, padding=\"same\", activation=\"relu\"))\n",
        "model.add(Dropout(0.2))\n",
        "model.add(BatchNormalization())\n",
        "model.add(MaxPool2D((2, 2), strides=2, padding=\"same\"))\n",
        "model.add(Conv2D(25, (3, 3), strides=1, padding=\"same\", activation=\"relu\"))\n",
        "model.add(BatchNormalization())\n",
        "model.add(MaxPool2D((2, 2), strides=2, padding=\"same\"))\n",
        "model.add(Flatten())\n",
        "model.add(Dense(units=512, activation=\"relu\"))\n",
        "model.add(Dropout(0.3))\n",
        "model.add(Dense(units=num_classes, activation=\"softmax\"))"
      ],
      "metadata": {
        "id": "zWkHxsabYmp4"
      },
      "execution_count": null,
      "outputs": []
    },
    {
      "cell_type": "markdown",
      "source": [
        "**Data Augmentation**"
      ],
      "metadata": {
        "id": "98k0zcm8AW3N"
      }
    },
    {
      "cell_type": "markdown",
      "source": [
        "Before compiling the model, it's time to set up our data augmentation.\n",
        "\n",
        "Keras comes with an image augmentation class called ImageDataGenerator. We recommend checking out the documentation here. It accepts a series of options for augmenting your data. Later in the course, we'll have you select a proper augmentation strategy. For now, take a look at the options we've selected below, and then execute the cell to create an instance of the class:"
      ],
      "metadata": {
        "id": "WKemQIIFAep4"
      }
    },
    {
      "cell_type": "code",
      "source": [
        "from tensorflow.keras.preprocessing.image import ImageDataGenerator\n",
        "\n",
        "datagen = ImageDataGenerator(\n",
        "    rotation_range=10,  # randomly rotate images in the range (degrees, 0 to 180)\n",
        "    zoom_range=0.1,  # Randomly zoom image\n",
        "    width_shift_range=0.1,  # randomly shift images horizontally (fraction of total width)\n",
        "    height_shift_range=0.1,  # randomly shift images vertically (fraction of total height)\n",
        "    horizontal_flip=True,  # randomly flip images horizontally\n",
        "    vertical_flip=False, # Don't randomly flip images vertically\n",
        ")  "
      ],
      "metadata": {
        "id": "2OVBPZR3AVWI"
      },
      "execution_count": null,
      "outputs": []
    },
    {
      "cell_type": "markdown",
      "source": [
        "Take a moment to think about why we would want to flip images horizontally, but not vertically. When you have an idea, reveal the text below.\n",
        "\n",
        "Our dataset is pictures of hands signing the alphabet. If we want to use this model to classify hand images later, it's unlikely that those hands are going to be upside-down, but, they might be left-handed. This kind of domain-specific reasoning can help make good decisions for your own deep learning applications."
      ],
      "metadata": {
        "id": "XTiQg366AtRS"
      }
    },
    {
      "cell_type": "markdown",
      "source": [
        "Batch Size"
      ],
      "metadata": {
        "id": "z2XoL_mTBGww"
      }
    },
    {
      "cell_type": "code",
      "source": [
        "import matplotlib.pyplot as plt\n",
        "import numpy as np\n",
        "batch_size = 32\n",
        "img_iter = datagen.flow(x_train, y_train, batch_size=batch_size)\n",
        "\n",
        "x, y = img_iter.next()\n",
        "fig, ax = plt.subplots(nrows=4, ncols=8)\n",
        "for i in range(batch_size):\n",
        "    image = x[i]\n",
        "    ax.flatten()[i].imshow(np.squeeze(image))\n",
        "plt.show()"
      ],
      "metadata": {
        "colab": {
          "base_uri": "https://localhost:8080/",
          "height": 257
        },
        "id": "WDdSefubAZIP",
        "outputId": "e5401398-eb23-464d-8732-cacffd4d7b35"
      },
      "execution_count": null,
      "outputs": [
        {
          "output_type": "display_data",
          "data": {
            "text/plain": [
              "<Figure size 432x288 with 32 Axes>"
            ],
            "image/png": "[encoded data removed]"
          },
          "metadata": {
            "needs_background": "light"
          }
        }
      ]
    },
    {
      "cell_type": "markdown",
      "source": [
        "Fitting the Data to the Generator"
      ],
      "metadata": {
        "id": "BURgR2gKCk3W"
      }
    },
    {
      "cell_type": "code",
      "source": [
        "datagen.fit(x_train)"
      ],
      "metadata": {
        "id": "2PvItnNECiQF"
      },
      "execution_count": null,
      "outputs": []
    },
    {
      "cell_type": "markdown",
      "source": [
        "Compiling the Model"
      ],
      "metadata": {
        "id": "VZaCpySiCz1D"
      }
    },
    {
      "cell_type": "code",
      "source": [
        "model.compile(loss='categorical_crossentropy', metrics=['accuracy'])"
      ],
      "metadata": {
        "id": "m9X7B8aTCuGG"
      },
      "execution_count": null,
      "outputs": []
    },
    {
      "cell_type": "markdown",
      "source": [
        "Training with Augmentation"
      ],
      "metadata": {
        "id": "NCcwXADPC7wS"
      }
    },
    {
      "cell_type": "code",
      "source": [
        "model.fit(img_iter,\n",
        "          epochs=20,\n",
        "          steps_per_epoch=len(x_train)/batch_size, # Run same number of steps we would if we were not using a generator.\n",
        "          validation_data=(x_valid, y_valid))"
      ],
      "metadata": {
        "colab": {
          "base_uri": "https://localhost:8080/"
        },
        "id": "6jTUdwsPC5iQ",
        "outputId": "f7374924-7de1-41cc-f6fe-5963e2f9e791"
      },
      "execution_count": null,
      "outputs": [
        {
          "output_type": "stream",
          "name": "stdout",
          "text": [
            "Epoch 1/20\n",
            "857/857 [==============================] - 126s 145ms/step - loss: 1.0849 - accuracy: 0.6499 - val_loss: 0.5384 - val_accuracy: 0.8009\n",
            "Epoch 2/20\n",
            "857/857 [==============================] - 123s 143ms/step - loss: 0.3238 - accuracy: 0.8890 - val_loss: 0.5042 - val_accuracy: 0.8509\n",
            "Epoch 3/20\n",
            "857/857 [==============================] - 124s 144ms/step - loss: 0.2061 - accuracy: 0.9325 - val_loss: 0.2271 - val_accuracy: 0.9314\n",
            "Epoch 4/20\n",
            "857/857 [==============================] - 122s 143ms/step - loss: 0.1548 - accuracy: 0.9495 - val_loss: 0.2126 - val_accuracy: 0.9311\n",
            "Epoch 5/20\n",
            "857/857 [==============================] - 124s 144ms/step - loss: 0.1292 - accuracy: 0.9591 - val_loss: 0.7303 - val_accuracy: 0.8402\n",
            "Epoch 6/20\n",
            "857/857 [==============================] - 122s 142ms/step - loss: 0.1169 - accuracy: 0.9631 - val_loss: 1.3253 - val_accuracy: 0.7612\n",
            "Epoch 7/20\n",
            "857/857 [==============================] - 123s 143ms/step - loss: 0.1073 - accuracy: 0.9659 - val_loss: 0.2057 - val_accuracy: 0.9476\n",
            "Epoch 8/20\n",
            "857/857 [==============================] - 121s 141ms/step - loss: 0.0925 - accuracy: 0.9722 - val_loss: 1.1137 - val_accuracy: 0.7832\n",
            "Epoch 9/20\n",
            "857/857 [==============================] - 121s 141ms/step - loss: 0.0856 - accuracy: 0.9734 - val_loss: 0.7214 - val_accuracy: 0.8154\n",
            "Epoch 10/20\n",
            "857/857 [==============================] - 121s 141ms/step - loss: 0.0828 - accuracy: 0.9763 - val_loss: 1.5100 - val_accuracy: 0.7356\n",
            "Epoch 11/20\n",
            "857/857 [==============================] - 124s 145ms/step - loss: 0.0803 - accuracy: 0.9767 - val_loss: 0.0612 - val_accuracy: 0.9791\n",
            "Epoch 12/20\n",
            "212/857 [======>.......................] - ETA: 1:28 - loss: 0.0732 - accuracy: 0.9788"
          ]
        }
      ]
    },
    {
      "cell_type": "markdown",
      "source": [
        "Saving the Model"
      ],
      "metadata": {
        "id": "eNQJ2Sm8D9JM"
      }
    },
    {
      "cell_type": "code",
      "source": [
        "model.save('asl_model')"
      ],
      "metadata": {
        "id": "NSBXddayDvha"
      },
      "execution_count": null,
      "outputs": []
    },
    {
      "cell_type": "markdown",
      "source": [
        "**Summary:** \n",
        "\n",
        "In this section you used Keras to augment your dataset, the result being a trained model with less overfitting and excellent validation image results."
      ],
      "metadata": {
        "id": "FvQbGR6MEIlO"
      }
    },
    {
      "cell_type": "markdown",
      "source": [
        "**Deploying ur Model**"
      ],
      "metadata": {
        "id": "FhLxsaoLEjul"
      }
    },
    {
      "cell_type": "code",
      "source": [],
      "metadata": {
        "id": "RkB3eq9qEPhW"
      },
      "execution_count": null,
      "outputs": []
    }
  ]
}