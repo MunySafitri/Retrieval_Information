{
  "nbformat": 4,
  "nbformat_minor": 0,
  "metadata": {
    "colab": {
      "provenance": [],
      "authorship_tag": "ABX9TyNim1vXfIWfpPL/WzlYWSvX",
      "include_colab_link": true
    },
    "kernelspec": {
      "name": "python3",
      "display_name": "Python 3"
    },
    "language_info": {
      "name": "python"
    }
  },
  "cells": [
    {
      "cell_type": "markdown",
      "metadata": {
        "id": "view-in-github",
        "colab_type": "text"
      },
      "source": [
        "<a href=\"https://colab.research.google.com/github/MunySafitri/Retrieval_Information/blob/main/SVM_CLASSIFIER_PENYAKIT.ipynb\" target=\"_parent\"><img src=\"https://colab.research.google.com/assets/colab-badge.svg\" alt=\"Open In Colab\"/></a>"
      ]
    },
    {
      "cell_type": "code",
      "execution_count": 57,
      "metadata": {
        "id": "wVJX3WtyMpfr"
      },
      "outputs": [],
      "source": [
        "import pandas as pd\n",
        "import numpy as np\n",
        "from nltk.tokenize import word_tokenize\n",
        "from nltk import pos_tag\n",
        "from nltk.corpus import stopwords\n",
        "from nltk.stem import WordNetLemmatizer\n",
        "from sklearn.preprocessing import LabelEncoder\n",
        "from collections import defaultdict\n",
        "from nltk.corpus import wordnet as wn\n",
        "from sklearn.feature_extraction.text import TfidfVectorizer\n",
        "from sklearn import model_selection, naive_bayes, svm\n",
        "from sklearn.metrics import accuracy_score"
      ]
    },
    {
      "cell_type": "code",
      "source": [
        "np.random.seed(500)"
      ],
      "metadata": {
        "id": "2P-hsZ-JM1RI"
      },
      "execution_count": 58,
      "outputs": []
    },
    {
      "cell_type": "code",
      "source": [
        "Corpus = pd.read_excel(r'/content/dataset_final-sample.xlsx')"
      ],
      "metadata": {
        "id": "nJdAQPPOM8-U"
      },
      "execution_count": 59,
      "outputs": []
    },
    {
      "cell_type": "code",
      "source": [
        "  import nltk\n",
        "  nltk.download('punkt')"
      ],
      "metadata": {
        "colab": {
          "base_uri": "https://localhost:8080/"
        },
        "id": "u_MldBmjOSKn",
        "outputId": "ed2083e0-3431-4b56-d564-43496e0b7842"
      },
      "execution_count": 60,
      "outputs": [
        {
          "output_type": "stream",
          "name": "stderr",
          "text": [
            "[nltk_data] Downloading package punkt to /root/nltk_data...\n",
            "[nltk_data]   Package punkt is already up-to-date!\n"
          ]
        },
        {
          "output_type": "execute_result",
          "data": {
            "text/plain": [
              "True"
            ]
          },
          "metadata": {},
          "execution_count": 60
        }
      ]
    },
    {
      "cell_type": "code",
      "source": [
        "nltk.download('wordnet')"
      ],
      "metadata": {
        "colab": {
          "base_uri": "https://localhost:8080/"
        },
        "id": "HRgeujkWOY_O",
        "outputId": "df6822de-d7b0-44f8-e2b3-194fde096772"
      },
      "execution_count": 61,
      "outputs": [
        {
          "output_type": "stream",
          "name": "stderr",
          "text": [
            "[nltk_data] Downloading package wordnet to /root/nltk_data...\n",
            "[nltk_data]   Package wordnet is already up-to-date!\n"
          ]
        },
        {
          "output_type": "execute_result",
          "data": {
            "text/plain": [
              "True"
            ]
          },
          "metadata": {},
          "execution_count": 61
        }
      ]
    },
    {
      "cell_type": "code",
      "source": [
        "nltk.download('averaged_perceptron_tagger')"
      ],
      "metadata": {
        "colab": {
          "base_uri": "https://localhost:8080/"
        },
        "id": "6ou6LvATRnx3",
        "outputId": "428358c9-d050-46a0-a6fa-48d1ab504c5e"
      },
      "execution_count": 62,
      "outputs": [
        {
          "output_type": "stream",
          "name": "stderr",
          "text": [
            "[nltk_data] Downloading package averaged_perceptron_tagger to\n",
            "[nltk_data]     /root/nltk_data...\n",
            "[nltk_data]   Package averaged_perceptron_tagger is already up-to-\n",
            "[nltk_data]       date!\n"
          ]
        },
        {
          "output_type": "execute_result",
          "data": {
            "text/plain": [
              "True"
            ]
          },
          "metadata": {},
          "execution_count": 62
        }
      ]
    },
    {
      "cell_type": "code",
      "source": [
        " nltk.download('stopwords')"
      ],
      "metadata": {
        "colab": {
          "base_uri": "https://localhost:8080/"
        },
        "id": "_9pf6DLWRuh6",
        "outputId": "d7dfaf6e-c62c-4fd2-a5d2-395522fae480"
      },
      "execution_count": 63,
      "outputs": [
        {
          "output_type": "stream",
          "name": "stderr",
          "text": [
            "[nltk_data] Downloading package stopwords to /root/nltk_data...\n",
            "[nltk_data]   Package stopwords is already up-to-date!\n"
          ]
        },
        {
          "output_type": "execute_result",
          "data": {
            "text/plain": [
              "True"
            ]
          },
          "metadata": {},
          "execution_count": 63
        }
      ]
    },
    {
      "cell_type": "code",
      "source": [
        "for entry in Corpus['tanda_dan_gejala']: \n",
        "  print(entry)\n",
        "  print(type(entry))"
      ],
      "metadata": {
        "colab": {
          "base_uri": "https://localhost:8080/"
        },
        "id": "ur2uR1kHQz_m",
        "outputId": "c7fbb303-7db7-437d-c3f2-c3ad77849a6f"
      },
      "execution_count": 64,
      "outputs": [
        {
          "output_type": "stream",
          "name": "stdout",
          "text": [
            "Hidung keluar lendir, choncae nasal kebiruan, bersin-bersin\n",
            "<class 'str'>\n",
            "Hidung berlendir, demam, choncae nasal kemerahan, bersin-bersin\n",
            "<class 'str'>\n",
            "Hidung bau, nyeri di dalam hidung, ada krusta di dalam hidung\n",
            "<class 'str'>\n",
            "Gatal pada hidung, mata, tenggorokan, kulit, atau area apa pun. Batuk. Bersin. Hidung meler. Hidung tersumbat. Tenggorokan gatal. Mata berair.\n",
            "<class 'str'>\n",
            "Bersin. Hidung meler. Gatal pada hidung, mata, tenggorokan, kulit, atau area apa pun. Batuk. Hidung tersumbat. Tenggorokan gatal. Mata berair. Lingkaran hitam di bawah mata. Sakit kepala terus-menerus. Gejala sejenis eksim, misalnya kulit sangat kering dan gatal serta sering melepuh. Gatal-gatal. Kelelahan yang amat sangat, \n",
            "<class 'str'>\n",
            "Pilek. Hidung tersumbat. Gatal-gatal pada hidung. Bersin-bersin. Batuk. Mata gatal dan berair. Sakit kepala, \n",
            "<class 'str'>\n",
            "Hidung keluar lendir, choncae nasal kebiruan, bersin-bersin, gatal pada hidung\n",
            "<class 'str'>\n",
            "Nyeri perut sebelah kanan bawah, awalnya nyeri di sekitar daerah pusar, lemas\n",
            "<class 'str'>\n",
            "Nyeri dekat pusar atau perut bagian atas yang menjadi semakin tajam ketika bergerak ke perut kanan bawah (ini yang penting dan tanda utama). Ini biasanya merupakan tanda pertama. Kehilangan selera makan. Mual atau muntah segera setelah sakit perut dimulai. Pembengkakan perut. Demam. Ketidakmampuan untuk kentut (flatus) (jika terjadi komplikasi perlengketan atau perforasi)\n",
            "<class 'str'>\n",
            "Nyeri perut sebelah kanan bawah, awalnya nyeri di sekitar daerah pusar, lemas , susah kentut\n",
            "<class 'str'>\n",
            "Demam ringan. Kehilangan selera makan. Mual dan muntah. Diare (dengan lendir). Perut kembung.\n",
            "<class 'str'>\n",
            "Nyeri perut. Kehilangan nafsu makan adalah gejala awal usus buntu lainnya. Mual dan muntah dapat terjadi pada awal perjalanan penyakit.\n",
            "<class 'str'>\n",
            "Kehilangan nafsu makan. Perut kembung. Tidak bisa buang gas (kentut). Mual. Konstipasi atau diare. Demam.\n",
            "<class 'str'>\n",
            "Hilangnya nafsu makan. Tidak bisa buang gas (kentut). Mual. Konstipasi atau diare. Demam. Perut kembung.\n",
            "<class 'str'>\n",
            "Mual dan muntah. Kehilangan nafsu makan. Konstipasi atau diare. Tidak dapat kentut. Perut membesar. Demam ringan.\n",
            "<class 'str'>\n",
            "Nyeri dekat pusar atau perut bagian atas yang menjadi semakin tajam ketika bergerak ke perut kanan bawah. Ini biasanya merupakan tanda pertama. Kehilangan selera makan. Mual atau muntah segera setelah sakit perut dimulai. Pembengkakan perut. Demam. Ketidakmampuan untuk kentut (flatus).\n",
            "<class 'str'>\n",
            "Nyeri dekat pusar atau perut nagian atas yang menjadi semakin tajam ketika bergerak keperut kanan bawah. Kehilangan selera makan. Mual dan/atau muntah segera setelah sakit perut dimulai. Pembengkakan perut. Demam. ketidakmampuan untuk flatus (kentut).\n",
            "<class 'str'>\n",
            "Hidung tersumbat, bersin, batuk, sakit tenggorokan\n",
            "<class 'str'>\n",
            "Meriang, muncul rasa sakit di otot, sesak di dada, kadang-kadang disertai dengan demam tinggi, batuk dan hidung tersumbat, hidung meler, batuk, mata berair, nyeri tenggorokan, dan bersin-bersin. \n",
            "<class 'str'>\n",
            "Hidung tersumbat, bersin, batuk, sakit tenggorokan, meriang dan sesak dada\n",
            "<class 'str'>\n",
            "Batuk kering. Sakit tenggorokan. Demam tinggi, kedinginan dan berkeringat. Sakit kepala. Sakit otot atau sakit badan. Kelelahan dan kelemahan.\n",
            "<class 'str'>\n",
            "Batuk, hidung meler, mata berair, tenggorokan yang sakit atau gatal, dan bersin-bersin.\n",
            "<class 'str'>\n",
            "Dehidrasi, tangan dan kaki yang dingin, kulit pucat, jarang buang air kecil, mudah marah, atau mengantuk. Demam tinggi. Feses anak mengandung darah dan nanah. Feses anak  berwarna hitam.\n",
            "<class 'str'>\n",
            "Feses berwarna gelap yang menandakan adanya darah pada feses. Mual dan muntah. Kurang tidur. Penurunan berat badan.\n",
            "<class 'str'>\n",
            "Sakit tenggorokan, demam, faring berwarna merah\n",
            "<class 'str'>\n",
            "Sakit tenggorokan. Demam. Sakit kepala. Membengkaknya kelenjar getah bening di leher.\n",
            "<class 'str'>\n",
            "Sakit tenggorokan, demam, faring berwarna merah, nyeri sendi dan otot\n",
            "<class 'str'>\n",
            "Nyeri otot. Tenggorokan bengkak. Batuk. Badan terasa lelah. Demam. Pusing. Mual. Susah menelan. Selera makan berkurang. Bersin. Pilek. \n",
            "<class 'str'>\n",
            "Sakit tenggorokan. Demam. Sakit kepala. Nyeri sendi dan nyeri otot. Ruam kulit. Membengkaknya kelenjar getah bening di leher. Bersin Batuk.\n",
            "<class 'str'>\n",
            "Demam dengan suhu tiga puluh delapan derajat celsius. Sakit kepala ringan. Kelelahan. Pegal-pegal. Panas dingin. Demam dengan suhu lebih dari tiga puluh delapan derajat Celsius. Pembesaran kelenjar getah bening di leher dan ketiak. Amandel membengkak. Sakit kepala. Kehilangan selera makan. Pembengkakan limpa. Peradangan hati.\n",
            "<class 'str'>\n",
            "Nyeri otot. Tenggorokan bengkak. Batuk. Badan terasa lelah. Demam. Pusing. Mual. Susah menelan. Selera makan berkurang. Bersin. Pilek.\n",
            "<class 'str'>\n",
            "Tenggorokan yang sakit atau gatal, gejala menyerupai flu seperti bersin, pilek, sakit kepala,  kelelahan, pegal-pegal, panas dingin, demam ringan, hingga demam tinggi. Bengkaknya kelenjar getah bening, nyeri otot, kehilangan selera makan, ruam, sulit menelan, sulit bicara karena suara serak, dan rasa tidak enak pada mulut. Sering menimbulkan gejala batuk berdahak dengan dahak kental berwarna kuning atau kehijauan, kadang terdapat bercak darah karena luka pada tenggorokan yang disebabkan oleh infeksi bakteri. Sering menyebabkan pembengkakan amandel yang nyeri dan kadang gatal.\n",
            "<class 'str'>\n",
            "Gatal dan sakit tenggorokan, gejala flu, bersin-bersin, hidung berair, sakit kepala, batuk, kelelahan, nyeri otot, dan demam. Terkadang rasa nyeri di telinga. Jika laring menyerang suara, pengidap akan mengalami suara serak. Kesulitan menelan, bernapas, dan membuka mulut.\n",
            "<class 'str'>\n",
            "Sakit tenggorokan, kering, atau gatal. Bersin. Pilek. Sakit kepala. Batuk. Merasa kelelahan. Pegal-pegal. Menggigil. Demam ringan sampai demam tinggi.\n",
            "<class 'str'>\n",
            "Gusi bengkak, gusi kemerahan, gusi berdarah\n",
            "<class 'str'>\n",
            "Kenaikan cairan gingival, gusi merah dan bengkak, berdarah ketika gosok gigi atau pemeriksaan pada gigi, konsistensi lunak\n",
            "<class 'str'>\n",
            "Gusi mudah berdarah ketika menyikat gigi atau membersihkan sela gigi menggunakan benang (flossing). Warna gusi merah kehitaman. Bau napas tidak sedap. Nyeri saat mengunyah makanan. Gusi menyusut, sehingga akar gigi terlihat. Terdapat nanah antara gigi dan gusi. Gigi palsu terasa tidak pas lagi. Gigi tanggal atau copot. \n",
            "<class 'str'>\n",
            "Gusi bengkak, gusi kemerahan, gusi berdarah, Bau napas tidak sedap.\n",
            "<class 'str'>\n",
            "Kenaikan cairan gingival atau gusi , gusi merah dan bengkak, berdarah ketika gosok gigi atau pemeriksaan pada gigi, konsistensi lunak, bau nafas tidak sedap\n",
            "<class 'str'>\n",
            "Mungkin asimptomatik. Uretritis, yang meliputi disuria dan rabas uretra yang purulen disertai warna merah dan pembengkakan pada tempat infeksi. Gambaran klinis bervariasi menurut tempat yang terkena: Uretra: disuria, sering kencing dan inkontinensia urine, rabas purulen, rasa gatal, merah, dan edema pada meatus uretra. Vulva: kadang-kadang terasa gatal, terbakar, dan nyeri yang disebabkan oleh eksudat dari daerah infeksi yang berdekatan. Vagina: distensi, eritema, pembengkakan. Hati: nyeri abdomen kuadran kanan atas. Pelvis: nyeri hebat pada pelvik dan abdomen bawah, rigiditas otot, nyeri tekan, dan distensi abdomen; nausea, vomitus, panas dan takikardia (dapat terjadi pada pasien salpingitis atau penyakit peradangan pelvik)\n",
            "<class 'str'>\n",
            "Dapat asimptomatik. Inflamasi dan rabas berwarna kuning kehijauan dari serviks. Gambaran klinis bervariasi menurut tempat yang terkena: Uretra: disuria, sering kencing dan inkontinensia urine, rabas purulen, rasa gatal, merah, dan edema pada meatus uretra. Vulva: kadang-kadang terasa gatal, terbakar, dan nyeri yang disebabkan oleh eksudat dari daerah infeksi yang berdekatan. Vagina: distensi, eritema, pembengkakan. Hati: nyeri abdomen kuadran kanan atas. Pelvis: nyeri hebat pada pelvik dan abdomen bawah, rigiditas otot, nyeri tekan, dan distensi abdomen; nausea, vomitus, panas dan takikardia (dapat terjadi pada pasien salpingitis atau penyakit peradangan pelvik)\n",
            "<class 'str'>\n",
            "Faringitis atau tonsilitis. Rasa terbakar pada rektum, rasa gatal, dan rabas mukopurulen yang berdarah. Gambaran klinis bervariasi menurut tempat yang terkena: Uretra: disuria, sering kencing dan inkontinensia urine, rabas purulen, rasa gatal, merah, dan edema pada meatus uretra. Vulva: kadang-kadang terasa gatal, terbakar, dan nyeri yang disebabkan oleh eksudat dari daerah infeksi yang berdekatan. Vagina: distensi, eritema, pembengkakan. Hati: nyeri abdomen kuadran kanan atas. Pelvis: nyeri hebat pada pelvik dan abdomen bawah, rigiditas otot, nyeri tekan, dan distensi abdomen; nausea, vomitus, panas dan takikardia (dapat terjadi pada pasien salpingitis atau penyakit peradangan pelvik)\n",
            "<class 'str'>\n",
            "Nyeri saat kencing, kencing bernanah, demam, riwayat seks bebas atau oral seks\n",
            "<class 'str'>\n",
            "Nyeri perut sebelah kanan atas, perut terasa begah/kembung, pipis seperti teh, feses warna pucat\n",
            "<class 'str'>\n",
            "Demam. Merasa letih. Nafsu makan buruk. Kelelahan. Mual atau muntah. Nyeri lambung. Nyeri sendi atau otot. Urin gelap seperti teh. Feses berwarna putih seperti dempul. Warna kulit dan bagian putih mata menguning (penyakit kuning). Rasa gatal. Perubahan mental, seperti keadaan tidak sadar atau koma. Perdarahan dalam tubuh, \n",
            "<class 'str'>\n",
            "Nyeri perut sebelah kanan atas, perut terasa begah/kembung, pipis atau warna urine seperti teh, feses warna pucat\n",
            "<class 'str'>\n",
            "Flu, mual, lemas, kehilangan nafsu makan, nyeri perut, mata atau kulit berwarna kuning, tinja berwarna pucat, dan urine berwarna gelap, bahkan terkadang ada yang tidak merasakan gejala sama sekali.\n",
            "<class 'str'>\n",
            "Mengalami gejala seperti flu, misalnya mual, muntah, demam, dan lemas. Feses berwarna pucat. Mata dan kulit berubah menjadi kekuningan (jaundice). Hal ini terjadi karena peningkatan bilirubin dalam darah. Nyeri perut. Berat badan turun. Urine menjadi gelap seperti teh. Kehilangan nafsu makan.\n",
            "<class 'str'>\n",
            "Perubahan warna mata dan kulit menjadi kuning. Demam. Lemas. Mual dan muntah. Warna urine menjadi gelap. Warna tinja menjadi pucat.\n",
            "<class 'str'>\n",
            "Bintil yang muncul seperti cacar air di salah satu sisi tubuh (kanan atau kiri). Bintil tersebut hanya setempat. Jaringan sekitar bintil menjadi bengkak. Bintil akan berkembang menjadi luka lepuh. Luka lepuh akan pecah dan menjadi luka berkerak, lalu menghilang secara perlahan. Bintil yang timbul di area mata dapat mengganggu penglihatan. Demam. Sakit kepala. Lemas. Silau terhadap cahaya. \n",
            "<class 'str'>\n",
            "Demam, nyeri, vesikel dengan persebaran sesuai dermatom, warna merah, timbulnya bintil \n",
            "<class 'str'>\n",
            "Nyeri pada dermatom saraf, priritis, perestesia pada batang tubuh, lesi kulit kecil-kecil berwarna merah\n",
            "<class 'str'>\n",
            "Dapat asimptomatik atau dapat menyebabkan gejala penyakit pernapasan ringan yang serupa dengan selesma berat atau influenza. Demam. Malaise. Sakit kepala. Mialgia. Anoreksia. Batuk. Nyeri dada. Anemia, leukopenia, atau trombositopenia. Ulkus pada orofaring.\n",
            "<class 'str'>\n",
            "Hepatosplenomegali. Limfadenopati generalisata. Anoreksia dan penurunan berat badan. Demam dan mungkin pula ulserasi pada lidah, palatum, epiglotis, dan laring yang menimbulkan rasa nyeri, suara parau, dan disfagia.\n",
            "<class 'str'>\n",
            "Batuk produktif, dispnea, dan kadang-kadang hemoptisis. Penurunan berat badan. Rasa lemah yang ekstrem. Sesak napas dan sianosis.\n",
            "<class 'str'>\n",
            "Nodul, papula, dan ulkus kutaneus. Lesi pada kranium dan tulang panjang. Limfadenopati dan lesi viseral tanpa lesi pulmoner.\n",
            "<class 'str'>\n",
            "Anemia, ulkus pada orofaring, penyakit pernapasan ringan serupa dengan salesma berat atau influenza\n",
            "<class 'str'>\n",
            "Demam. Nyeri otot. Sesak napas. Sakit kepala. Batuk kering. Menggigil. Nyeri sendi. Ruam pada kulit.\n",
            "<class 'str'>\n",
            "Anemia, ulkus pada orofaring, penyakit pernapasan ringan serupa dengan salesma berat atau influenza dan batuk kering\n",
            "<class 'str'>\n",
            "Sakit tenggorokan, demam, muncul ruam pada tubuh dan biasanyanya tidak gatal, pembengkakan noda limfa, penurunan berat badan, diare, mudah lelah, tulang sendiri terasa nyeri, dan nyeri otot. Membengkaknya kelenjar getah bening pada bagian leher dan pangkal paha, demam, berat badan menurun tanpa diketahui penyebabnya, sesak napas, diare berkelanjutan, infeksi jamur pada mulut, tenggorokan atau alat kelamin, mudah memar atau berdarah tanpa sebab.\n",
            "<class 'str'>\n",
            "Demam. Kelelahan. Pegal, nyeri otot dan sendi, pembengkakan kelenjar getah bening. Sakit tenggorokan dan sakit kepala. Ruam kulit. Mual, muntah dan diare. Penurunan berat badan. Batuk kering. Pneumonia. Keringat malam. Perubahan pada kuku. Infeksi jamur. Kebingungan atau kesulitan berkonsentrasi. Herpes mulut dan herpes kelamin. Kesemutan dan kelemahan. Menstruasi tidak teratur.\n",
            "<class 'str'>\n",
            "Kebingungan, perubahan kepribadian, atau penurunan kemampuan mental. Sariawan yang ditandai dengan adanya lapisan keputihan dan tebal pada lidah atau mulut. Sariawan ini disebabkan oleh infeksi jamur. Infeksi jamur vagina yang parah atau berulang. Penyakit radang panggul kronis. Infeksi parah dan sering mengalami kelelahan ekstrem yang tidak dapat dijelaskan penyebabnya dan mungkin muncul bersamaan dengan sakit kepala dan atau pusing. Turunnya berat badan yang bukan disebabkan karena olahraga atau diet. Lebih mudah mengalami memar. Diare yang lebih sering. Sering demam dan berkeringat di malam hari. Pembengkakan atau mengerasnya kelenjar getah bening yang terletak di tenggorokan, ketiak, atau pangkal paha. Batuk kering yang terus menerus. Sering mengalami sesak napas. Perdarahan pada kulit, mulut, hidung, anus, atau vagina tanpa penyebab yang pasti. Ruam kulit yang sering atau tidak biasa. Mati rasa parah atau nyeri pada tangan atau kaki. Hilangnya kendali otot dan refleks, kelumpuhan, atau hilangnya kekuatan otot.\n",
            "<class 'str'>\n",
            "Erosi serviks. Dispareunia. Sekret mikropurulen. Nyeri pelvik.\n",
            "<class 'str'>\n",
            "Nyeri dan nyeri tekan pada abdomen bawah, serviks, uterus, dan limfonodus. Mengigil, panas. Perdarahan per vaginam; perdarahan sesudah hubungan intim; dan pengeluaran sekret vagina. Disuria.\n",
            "<class 'str'>\n",
            "Disuria, piuria, dan sering kencing (urinary frequency)\n",
            "<class 'str'>\n",
            "Disuria, eritema, nyeri tekan pada meatus uretra. Sering kencing. Pruritus dan sekret uretra (bisa banyak dan purulen atau sedikit dan jernih atau mukoid)\n",
            "<class 'str'>\n",
            "Pembengkakan skrotum yang nyeri. Sekret uretra.\n",
            "<class 'str'>\n",
            "Nyeri punggung bawah. Sering kencing, nokturia, dan disuria. Ejakulasi yang nyeri.\n",
            "<class 'str'>\n",
            "Sering kencing, nyeri di daerah perut bagian bawah, demam, sakit saat kencing\n",
            "<class 'str'>\n",
            "Nyeri saat berkemih, rasa ingin kencing tapi tidak bisa, urin lebih berbau, nyeri di suprapubic\n",
            "<class 'str'>\n",
            "Rasa sakit dan terbakar ketika kencing. Nyeri dan tekanan di perut bagian bawah. Urin berbau amis atau berwarna keruh. Kencing berdarah. Sering buang air kecil. Demam ringan.\n",
            "<class 'str'>\n",
            "Nyeri saat berkemih, rasa ingin kencing tapi tidak bisa, Urin berbau amis atau berwarna keruh, nyeri di suprapubic\n",
            "<class 'str'>\n",
            "Hiperemia konjungtiva. Sekret. Lakrimasi. Nyeri. Fotofobia (jika kornea ikut terkena). Rasa gatal dan panas seperti terbakar. Catatan: semua gejala ini dapat pula terjadi karena infeksi virus.\n",
            "<class 'str'>\n",
            "Mata lengket, mata berair, pandangan sedikit kabur, kelopak mata membengkak\n",
            "<class 'str'>\n",
            "Nyeri, fotofobia, rasa gatal dan panas seperti terbakar\n",
            "<class 'str'>\n",
            "Mata merah dan benjolan pada kelopak kanan disertai nyeri dan merah, terdapat secret mukopurulen, gatal, berair\n",
            "<class 'str'>\n",
            "Mata merah di bagian putih bola mata atau kelopak mata bagian dalam. penglihatan dalan batas normal. gatal. bengkak. mata berair. nyeri atau perih pada mata. sensasi mata berpasir. sensitif terhadap cahaya.\n",
            "<class 'str'>\n",
            "Demam tinggi. Sakit kepala. Mual muntah. Berkeringat. Menggigil.\n",
            "<class 'str'>\n",
            "Flu sakit kepala, demam, menggigil, nyeri sendi, muntah, anemia hemolitik, penyakit kuning, hemoglobin dalam urin, kerusakan retina, dan kejang-kejang.\n",
            "<class 'str'>\n",
            "Demam tinggi. Sakit kepala. Muntah. Diare. Nyeri otot. Mual. Kejang-kejang. Ada darah pada tinja. Keringat berlebih. Panas dingin sedang hingga parah. Kadar gula darah menurun.\n",
            "<class 'str'>\n",
            "Demam. Menggigil. Sakit kepala. Kaku kuduk. Vomitus. Fotofobia. Letargi. Koma. Tanda Brudzinski dan Kemig yang positif. Refleks tendon dalam yang meningkat dan simetris disertai gejala opistotonos. Tekanan nadi yang lebar. Bradikardia. Ruam yang kadang-kadang terjadi. Catatan: Meningitis dapat pula disebabkan oleh infeksi virus, protozoa, atau fungus.\n",
            "<class 'str'>\n",
            "Kaku kuduk, penurunan kesadaran, muntah proyektil, sakit kepala\n",
            "<class 'str'>\n",
            "Demam, menggigil, sakit kepala, kaku kuduk, muntah, letargi, brakikardi, ruam kadang terjadi\n",
            "<class 'str'>\n",
            "Demam, menggigil, sakit kepala, kaku kuduk, muntah, letargi, brakikardi, ruam kadang terjadi, Demam tinggi. Leher kaku. Sakit kepala berat. Kejang. Sensitif terhadap cahaya. Sulit berkonsentrasi. Tidur yang terlalu lelap. Ruam. Nafsu makan berkurang,\n",
            "<class 'str'>\n",
            "Demam. Sakit kepala terus menerus. Mual muntah. Sensitif dengan cahaya yang terlalu silau. Sakit kepala parah. Leher kaku. Sering pingsan.\n",
            "<class 'str'>\n",
            "Demam dan menggigil, terutama pada bayi baru lahir dan anak-anak. Perubahan kondisi mental seperti kebingungan, linglung. Mual dan muntah. Sensitif terhadap cahaya silau (photophobia). Sakit kepala parah. Leher kaku (kaku kuduk). Sering pingsan. Demam. Sakit kepala berat tak henti-hentinya. Linglung. Muntah. Leher kaku.\n",
            "<class 'str'>\n",
            "Flu. Kejang dan kaku pada leher. Sakit kepala, kaku kuduk, hingga demam.\n",
            "<class 'str'>\n",
            "Demam tinggi. Leher kaku. Sakit kepala berat. Kejang. Sensitif terhadap cahaya. Sulit berkonsentrasi. Tidur yang terlalu lelap. Ruam. Nafsu makan berkurang.\n",
            "<class 'str'>\n",
            "Nyeri telinga, drainase telinga, vertigo atau pusing kepala sebalah, tinitus\n",
            "<class 'str'>\n",
            "Erythema chronicum migrans (ECM): makula atau papula berwarna merah yang umumnya ditemukan pada tempat gigitan kutu dan tumbuh hingga berukuran lebih dari 20 inci, teraba panas serta gatal dan menyerupai mata sapi; sesudah beberapa hari timbul lebih banyak lesi lagi dan muncul ruam yang menyerupai cincin serta berpindah-pindah. Konjungtivitis. Terjadi urtikaria difus. Lesi digantikan bercak-bercak kecil berwarna merah dalam 3 hingga 4 minggu. Malaise dan keletihan. Sakit kepala kambuhan. Kaku leher. Demam, menggigil, dan pegal-pegal. Limfadenopati regional.\n",
            "<class 'str'>\n",
            "Meningoensefalitis yang berfluktuasi-kelainan neurologi disertai neuropati perifer dan kranial; tanda klinis ini dimulai beberapa minggu sampai beberapa bulan kemudian. Paralisis fasialis. Kelainan jantung: atrioventricular heart block yang berfluktuasi dan berlangsung singkat, disfungsi ventrikel kiri, kardiomegali.\n",
            "<class 'str'>\n",
            "Artritis disertai pembengkakan yang nyata; tanda klinis ini dimulai beberapa minggu atau beberapa bulan kemudian. Gejala neuropsikiatri, seperti perilaku psikotik, kehilangan daya ingat, demensia, dan depresi. Gejala ensefalopati, seperti sakit kepala, konfusi, dan kesulitan berkonsenterasi. Manifestasi oftalmikus, seperti iritis, keratitis, vaskulitis, retina, dan neuritis nervus optikum.\n",
            "<class 'str'>\n",
            "Suhu tubuh yang tinggi. Batuk disertai sputum yang purulen, berwarna kuning atau berdarah. Dispnea. Ronki disertai penurunan bunyi napas. Nyeri pleuritik. Mengigil. Malaise. Takipnea. Pneumonia dapat pula disebabkan oleh infeksi fungus atau protozoa.\n",
            "<class 'str'>\n",
            "Demam menggigil, suhu tubuh meningkat, batuk berdahak kadang disertai darah, sesak nafas, nyeri dada\n",
            "<class 'str'>\n",
            "Demam, menggigil, batuk produktif dengan sputum amis, sputum kuning kehijauan\n",
            "<class 'str'>\n",
            "Suhu tubuh tinggi, batuk disertai sputum yang purulent berwarna kuning atau berdarah, dipnea, ronki disertai penurunan bunyi napas\n",
            "<class 'str'>\n",
            "Nyeri dada. Sesak napas. Kehilangan berat badan. Lemas. Demam tinggi. Napas berbau. Berkeringat (terutama pada malam hari)\n",
            "<class 'str'>\n",
            "Demam. Berkeringat dan menggigil. Batuk kering atau batuk dengan dahak kental berwarna kuning, hijau, atau disertai darah. Sesak napas. Nyeri dada ketika menarik napas atau batuk. Mual atau muntah. Diare. Selera makan menurun.\n",
            "<class 'str'>\n",
            "Demam menggigil, suhu tubuh meningkat, batuk berdahak atau sputum, kadang disertai darah, sesak nafas, nyeri dada\n",
            "<class 'str'>\n",
            "Demam, menggigil, batuk produktif dengan sputum atau dahak amis, sputum atau dahak kuning kehijauan\n",
            "<class 'str'>\n",
            "Sakit kepala; Iritasi ringan pada mata; Demam; Hidung tersumbat; Ruam berbentuk bintik-bintik kemerahan muncul di sekitar kulit wajah, kemudian menyebar ke badan, tangan dan kaki; dan Rasa nyeri pada sendi.\n",
            "<class 'str'>\n",
            "Ruam merah muda atau merah yang diawali pada bagian wajah dan kemudian menyebar di seluruh tubuh. Demam ringan. Pembengkakan pada bagian kelenjar getah bening, juga terasa lunak ketika disentuh. Sakit kepala dan nyeri otot. Mata memerah.\n",
            "<class 'str'>\n",
            "Ruam kemerahan terasa agak gatal dan akan hilang dalam waktu satu sampai tiga hari. Selain itu, gejala lain yang biasa muncul adalah sakit kepala, pegal-pegal, tidak nafsu makan, mata merah, hidung berair, atau nyeri sendi.\n",
            "<class 'str'>\n",
            "Pembengkakan kelenjar getah bening di sekitar telinga dan belakang kepala, badan panas hingga bersuhu tiga puluh delapan derajat Celcius atau lebih, dan badan menggigil. Terkadang peradangan dan nyeri sendi.\n",
            "<class 'str'>\n",
            "Demam ringan. Kepala pusing. Hidung tersumbat. Mata merah meradang. Pembengkakan kelenjar limfa di belakang telinga pada leher. Ruam berwarna merah jambu yang menyebar di permukaan wajah serta bagian tubuh lainnya.\n",
            "<class 'str'>\n",
            "Kelelahan di sekujur tubuh. Berkeringat dingin. Kesulitan menelan. Sensitif, bahkan takut akan air (hidrofobia). Produksi air liur berlebihan. Kejang otot bagian punggung. Sering merasa ingin buang air kecil (retensi urin). Suhu tubuh meningkat (hipertermia). Detak jantung tidak beraturan (aritmia). Nyeri di hampir seluruh bagian tubuh.\n",
            "<class 'str'>\n",
            "Peningkatan kadar neutrofil, salah satu jenis sel darah putih. Kejang otot. Kesemutan. Kejang otot yang terasa lebih sakit dan berlangsung selama beberapa minggu. Demam tinggi. Luka mengeluarkan nanah. Pembengkakan pada beberapa bagian tubuh.\n",
            "<class 'str'>\n",
            "Sakit kepala. Penglihatan terganggu. Kejang otot. Rasa sakit di sekitar mata.\n",
            "<class 'str'>\n",
            "Kejang dan kekakuan pada otot rahang (trismus); Kekakuan otot leher; Kesulitan menelan; Otot perut menjadi kaku; Kejang pada tubuh yang menyakitkan, berlangsung selama beberapa menit, biasanya dipicu oleh kejadian kecil, seperti suara angin, suara keras, sentuhan fisik atau cahaya; Demam; Berkeringat; Tekanan darah tinggi; Detak jantung berjalan cepat. \n",
            "<class 'str'>\n",
            "Kontraksi otot disertai nyeri umumnya pada rahang bawah dan leher disebabkan memiliki riwayat luka. Kekakuan otot rahang yang mengakibatkan mulut sulit dibuka serta otot muka terasa kaku sehingga wajah seperti meringis kesakitan. Selain itu tetanus umum juga disertai kejang. Terkadang disertai panas tinggi.\n",
            "<class 'str'>\n",
            "Sukar membuka mulut; Kesulitan saat menelan atau mengunyah makanan; Kaku dan kejang di seluruh otot tubuh; Perut keras seperti papan; Kejang yang tidak disertai penurunan kesadaran pasien.\n",
            "<class 'str'>\n",
            "Kesukaran membuka mulut, kekakuan dan kejang otot di seluruh tubuh. Kekakuan ini selalu tampak pada otot pengunyah dan otot-otot rangka. Akibatnya, pasien mengeluh kesulitan membuka mulut dan otot dinding perut dan punggung sekeras papan.\n",
            "<class 'str'>\n",
            "Demam dan keringat malam. Batuk produktif yang berlangsung lebih dari tiga minggu. Hemoptisis. Malaise. Adenopati. Penurunan berat badan. Nyeri dada pleuritik. Gejala obstruksi saluran napas karena lesi pada nodus limfe.\n",
            "<class 'str'>\n",
            "Batuk lebih dari tiga minggu, sesak napas atau nyeri dada, dahak berdarah, keringat malam, nafsu makan berkurang, berat badan menurun\n",
            "<class 'str'>\n",
            "Demam, keringat malam, batuk nyeri dada pleuritic, obstruksi saluran pernapasan\n",
            "<class 'str'>\n",
            "Batuk. Pada tahap selanjutnya, batuk bisa menghasilkan dahak berwarna abu-abu atau kuning yang bisa bercampur dengan darah. Perhatikan penurunan berat badan yang tidak bisa dijelaskan. Kelelahan. Demam. Berkeringat di malam hari adalah salah satu cara tubuh melindungi darpenyakit. Berkeringat di malam hari dapat dimulai dengan demam dan akhirnya, menyebabkan keringat berlimpah diikuti oleh menggigil. Panas dingin. Kehilangan nafsu makan. Amati urine yang berubah warna (kemerahan) atau urine keruh.\n",
            "<class 'str'>\n",
            "Batuk lebih dari tiga minggu, sesak napas atau nyeri dada, dahak berdarah, keringat malam, nafsu makan berkurang, berat badan menurun, urine berwarna kemerahan\n",
            "<class 'str'>\n",
            "Demam tinggi yang meningkat secara perlahan mulai sore hari hingga dini hari. Tubuh menggigil. Denyut jantung lemah (bradycardia). Badan lemah (weakness). Sakit kepala yang hebat pada malam hari, terutama di belakang kepala. Nyeri otot mialgia. Kehilangan nafsu makan. Konstipasi. Sakit perut. Pada kasus tertentu muncul penyebaran flek merah muda (rose spots).\n",
            "<class 'str'>\n",
            "Demam yang lama-kelamaan meningkat hingga menjadi empat puluh derajat Celcius. Sakit kepala. Batuk. Tubuh lemas. Mimisan. Demam tinggi terus berlanjut hingga memburuk. Sering mengigau karena demam yang terjadi. Sakit perut. Diare atau bahkan sembelit. Perut kembung karena pembengkakan hati dan empedu. Tinja berwarna kehijauan.\n",
            "<class 'str'>\n",
            "Demam yang makin lama makin tinggi. Sakit kepala. Nyeri otot. Sakit perut. Tidak nafsu makan. Sembelit atau diare (Kecendrungannya, sembelit pada dewasa dan diare pada anak-anak). Ruam berupa bintik-bintik kecil berwarna merah muda. Pegal-pegal. Lemas. Rasa kebingungan, seperti disorientasi tempat dan lingkungan.\n",
            "<class 'str'>\n",
            "Demam yang meningkat secara bertahap tiap hari hingga mencapai tiga puluh sembilan sampai empat puluh derajat Celcius. Demam juga akan lebih tinggi pada malam hari. Nyeri otot. Sakit kepala. Merasa tidak enak badan. Pembesaran ginjal dan hati. Kelelahan dan lemas. Berkeringat. Batuk kering. Penurunan berat badan. Sakit perut. Kehilangan nafsu makan. Anak-anak sering mengalami diare, sementara orang dewasa cenderung mengalami konstipasi. Muncul ruam pada kulit berupa bintik-bintik kecil berwarna merah muda. Linglung, merasa tidak tahu sedang berada di mana dan apa yang sedang terjadi di sekitar dirinya.\n",
            "<class 'str'>\n",
            "Demam meningkat. Demam lebih tinggi pada malam hari. Nyeri otot. Sakit kepala. Merasa tidak enak badan. Pembesaran ginjal dan hati. Kelelahan dan lemas. Berkeringat. Batuk kering. Penurunan berat badan. Sakit perut. Kehilangan nafsu makan. Anak-anak sering mengalami diare, sementara orang dewasa cenderung mengalami konstipasi. Muncul ruam pada kulit berupa bintik-bintik kecil berwarna merah muda. Linglung, merasa tidak tahu sedang berada di mana dan apa yang sedang terjadi di sekitar dirinya.\n",
            "<class 'str'>\n",
            "Demam yang meningkat setiap hari hingga mencapai empat puluh derajat celcius. Sakit kepala. Lemah dan lelah. Nyeri otot. Berkeringat. Batuk kering. Kehilangan nafsu makan dan menurunkan berat badan. Sakit perut. Diare atau sembelit. Ruam. Perut yang membengkak. Mengigau. Berbaring lemah dengan mata setengah tertutup.\n",
            "<class 'str'>\n",
            "Demam, awalnya rendah lama-lama meningkat tinggi. Sakit kepala. Kelemahan dan kelelahan. Batuk kering. Tidak nafsu makan. Sakit perut. Diare atau sembelit. Ruam.\n",
            "<class 'str'>\n",
            "Demam. Hilang nafsu makan. Batuk kering. Diare. Ruam berwarna merah. Mual dan muntah.\n",
            "<class 'str'>\n",
            "Demam. Mudah berkeringat. Tubuh mudah lemas. Gangguan pencernaan. Sakit perut. Hilang nafsu makan. Sakit Kepala.\n",
            "<class 'str'>\n",
            "Kemaluan terasa terbakar ketika buang air kecil. Air seni akan keluar seperti darah atau berwarna keruh. Anda akan sering merasa ingin kencing. Jika sudah kencing, air seni yang dikeluarkan tidak akan keluar banyak, dan malah disertai rasa sakit. Air seni Anda akan berbau tidak sedap. Perut bawah di sekitar kemaluan akan terasa kram dan tidak nyaman. Suhu tubuh akan naik sehingga kadang terjadi demam.\n",
            "<class 'str'>\n",
            "Jika infeksi pada ginjal, pasien dapat demam, mual, dan muntah atau menggigil atau nyeri punggung. Jika infeksi pada kandung kemih, pasien akan merasakan tekanan pada pelvis depan (perut bawah), sering buang air kecil, dan kencing berdarah. Jika infeksi pada uretra, pasien akan merasakan nyeri saat kencing dan keluarnya cairan dari uretra.\n",
            "<class 'str'>\n",
            "Urine Berbau. Buang air lebih sering. Gampang kebelet. Rasanya seperti kantong kemih tak pernah kosong. Memiliki Sensasi terbakar saat buang air. Nyeri dibawah perut.\n",
            "<class 'str'>\n",
            "Merasa lemas atau lelah. Mudah marah. Nafsu makan berkurang. Muntah. Kesakitan saat buang air kecil.\n",
            "<class 'str'>\n",
            "Rasa nyeri, terbakar, atau menyengat saat buang air kecil. Tubuh demam atau terasa lemah. Meningkatnya frekuensi buang air kecil, tapi hanya sedikit urine yang keluar. Terdapat darah di dalam urine atau hematuria. Urine akan berwarna lebih pekat, gelap, dan beraroma kuat. Munculnya rasa nyeri di perut atau punggung bagian bawah.\n",
            "<class 'str'>\n",
            "Mata Merah. Kelopak Mata Membengkak dan Merah. Mata Berair. Mata Terasa Gatal Atau Seperti Terbakar. Belekan. Mata Tidak Dapat Membuka. Mata Menjadi Lebih Sensitif Terhadap Cahaya. Terasa Seperti Ada Benda Asing di Dalam Mata (Mengganjal).\n",
            "<class 'str'>\n",
            "Kemerahan pada satu mata atau kedua mata; Rasa gatal pada satu mata atau kedua mata; Rasa mengganjal pada satu mata atau kedua mata; Pengeluaran kotoran mata dari satu mata atau kedua mata yang dapat membentuk kerak pada malam hari sehingga pada pagi pagi hari kelopak mata tidak dapat dibuka; Pengeluaran air mata; Reflex pupil (anak mata) masih normal; Ketajaman penglihatan masih normal.\n",
            "<class 'str'>\n",
            "Mata merah, atau konjungtivitis, adalah keluar air mata, gatal, kemerahan, sekret mata, dan bengkak pada mata.\n",
            "<class 'str'>\n",
            "Mata merah di bagian putih bola mata atau kelopak mata bagian dalam, penglihatan dalan batas normal, gatal, bengkak, mata berair, nyeri atau perih pada mata, sensasi mata berpasir, sensitif terhadap cahaya, belekan terutama di pangkal bulu mata pada saat bangun tidur sehingga pasien sulit membuka mata.\n",
            "<class 'str'>\n",
            "Mata terasa kasar dan gatal, merah dan mungkin berair, Kelopak mata bisa membengkak dan sangat gatal, mata berair, mata terasa nyeri, mata terasa gatal, pandangan kabur, peka terhadap cahaya, terbentuk keropeng pada kelopak mata ketika bangun pada pagi hari.\n",
            "<class 'str'>\n",
            "Kemerahan pada satu atau kedua mata. Gatal pada satu atau kedua mata. Sensasi berpasir pada satu atau kedua mata. Keluar cairan pada satu atau kedua mata yang membentuk kerak (mengeras) pada malam hari.\n",
            "<class 'str'>\n",
            "Mata merah. Mata berair. Rasa panas. Mata seperti terganjal. Alis agak lengket. Mata gatal. Bersin dan hidung tersumbat. Mata kering dan sakit. Titik-titik kecil di dalam kelopak mata bagian atas (alergi terhadap lensa kontak).\n",
            "<class 'str'>\n",
            "Mata merah. Terasa gatal pada satu atau kedua mata. Terasa pedas pada satu atau kedua mata. Terdapat kotoran pada satu atau kedua mata yang membentuk kerak pada malam hari yang dapat mempersulit mata membuka di pagi hari. Adanya robekan.\n",
            "<class 'str'>\n",
            "Demam. Menggigil. Sakit kepala. Nyeri otot. Pembesaran kelenjar getah bening. Kelelahan. Sakit tenggorokan. Gangguan penglihatan.\n",
            "<class 'str'>\n",
            "Artritis pada salah satu atau lebih dari satu sendi, terutama sendi besar seperti lutut. Mati rasa pada tungkai dan lengan. Aritmia. Gangguan ingatan jangka pendek. Gangguan mental. Sulit diajak berkomunikasi. Sakit kepala berat. Sulit berkonsentrasi. Ensefalopati.\n",
            "<class 'str'>\n",
            "Menggigil. Demam. Pembesaran kelenjar getah bening. Sakit tenggorokan. Gangguan penglihatan. Kelelahan. Nyeri otot. Nyeri kepala.\n",
            "<class 'str'>\n",
            "Ruam muncul di tempat lain selain lokasi gigitan kutu. Gejala saraf seperti kesemutan dan kebas. Bell’s palsy. Nyeri kepala hebat.\n",
            "<class 'str'>\n",
            "Radang sendi pada satu atau lebih sendi besar. Gangguan irama jantung. Gangguan otak seperti ensefalopati. Hilangnya ingatan jangka pendek. Gangguan dalam terlibat percakapan. Kesulitan konsentrasi. Gangguan mental. Kebas pada kaki atau tangan.\n",
            "<class 'str'>\n",
            "Ruam. Gejala Mirip Flu. Kelelahan terus menerus. Nyeri sendi. Masalah saraf, penglihatan, dan kognitif otak.\n",
            "<class 'str'>\n",
            "Demam. Sakit kepala. Nyeri otot dan sendi. Leher kaku. Kelelahan.\n",
            "<class 'str'>\n",
            "Gusi kemerahan. Gusi melunak. Gusi menyusut. Gusi mudah berdarah saat sikat gigi atau flossing (menggunakan benang dental). Gusi akan sakit jika disentuh atau mengunyah. Gusi bengkak. Gigi menjadi lebih sensitif. Aroma mulut yang tidak sedap. Perubahan posisi gigi palsu. Gigi terlepas (sudah masuk tahap Periodontitis).\n",
            "<class 'str'>\n",
            "Gusi berdarah, bau mulut, gigi berkurang, gigi longgar, gusi lengser, sakit gigi atau ulkus, kemerahan atau plak gigi.\n",
            "<class 'str'>\n",
            "Gusi yang bengkak, bengkak, surut, kadang-kadang lembut, atau yang mudah berdarah.\n",
            "<class 'str'>\n",
            "Gusi bengkak dan sakit, gusi mudah berdarah, gusi berwarna merah, bau mulut tidak enak, nyeri ketika makan atau mengunyah.\n",
            "<class 'str'>\n",
            "Perubahan warna gusi menjadi merah. Gusi yang bengkak. Adanya bau tak sedap pada mulut. Gusi mudah mengalami pendarahan.\n",
            "<class 'str'>\n",
            "Gusi membengkak. Gusi berwarna merah atau merah gelap. Gusi mudah berdarah saat disikat atau saat dibersihkan dengan benang gigi. Bau mulut. Gusi melunak. Gigi goyang. Nyeri saat mengunyah. Gigi menjadi sensitif.\n",
            "<class 'str'>\n",
            "Frekuensi buang air kecil yang cukup sering. Keluarnya nanah dari penis (tetesan cairan) berwarna putih, kuning, krem atau kehijau-hijauan). Bengkak dan kemerahan bukaan penis. Bengkak atau nyeri pada testis. Sakit tenggorokan yang datang terus-menerus.\n",
            "<class 'str'>\n",
            "Keluar cairan dari vagina (berair, menyerupai krim, sedikit kehijauan). Ketika buang air kecil, adanya sensasi nyeri dan rasa panas. Frekuensi buang air kecil yang cukup sering. Munculnya bercak darah atau perdarahan saat tidak sedang menstruasi. Rasa nyeri ketika melakukan hubungan seksual. Rasa nyeri juga dirasakan pada perut bagian bawah atau nyeri panggul. Bengkak pada vulva. Rasa terbakar atau panas di tenggorokan (ketika sudah melakukan oral seks). Demam.\n",
            "<class 'str'>\n",
            "Keluarnya nanah dari penis dan rasa sakit saat buang air kecil.\n",
            "<class 'str'>\n",
            "Keluar nanah pada ujung penis. Nyeri saat buang air kecil. Bengkak dan nyeri pada salah satu testis. Ujung penis merah dan bengkak.\n",
            "<class 'str'>\n",
            "Nyeri saat buang air kecil atau saat melakukan hubungan intim. Bertambahnya frekuensi buang air kecil. Sakit perut dan panggul. Keputihan. Keluar darah dari vagina setelah melakukan hubungan seksual. Keluar darah dari vagina ketika tidak sedang menstruasi. Menstruasi yang lebih banyak atau lebih lama dari biasanya.\n",
            "<class 'str'>\n",
            "Sensasi panas ketika buang air kecil. Adanya cairan seperti nanah dari penis, vagina, atau dubur.\n",
            "<class 'str'>\n",
            "Rasa sakit atau nyeri saat buang air kecil dan keluarnya cairan kental berwarna kuning atau hijau dari vagina atau penis.\n",
            "<class 'str'>\n",
            "Belang merah. Lepuhan berisi cairan yang mudah pecah. Ruam yang menyelimuti dari sekitar tulang belakang hingga torso. Ruam pada wajah dan telinga. Gatal. Demam. Panas-dingin. Sakit kepala. Kelelahan. Kelemahan otot.\n",
            "<class 'str'>\n",
            "Ruam yang timbul pada satu sisi tubuh sesuai dengan saraf yang terinfeksi. Nyeri berupa rasa panas seperti terbakar atau tertusuk benda tajam pada ruam. Ruam berupa luka melepuh berisi air yang gatal dan menyerupai bintil cacar air. Lepuhan akan mengering dan berubah menjadi koreng dalam beberapa hari. Gatal dan mati rasa pada bagian yang terdapat ruam. Dapat disertai demam, nyeri kepala, sensitif terhadap cahaya, dan rasa lelah.\n",
            "<class 'str'>\n",
            "Nyeri pada kulit. Timbul ruam pada kulit. Nyeri dan ruam pada satu sisi tubuh. Demam, nyeri kepala, tidak enak badan, tidak nafsu makan, dan sensitif terhadap cahaya.\n",
            "<class 'str'>\n",
            "Bercak kemerahan dan muncul gelembung-gelembung berisi air disertai gejala demam, lemas hingga nyeri pada kulit.\n",
            "<class 'str'>\n"
          ]
        }
      ]
    },
    {
      "cell_type": "code",
      "source": [
        "nltk.download('omw-1.4')"
      ],
      "metadata": {
        "colab": {
          "base_uri": "https://localhost:8080/"
        },
        "id": "Ce6vfWOgRTAf",
        "outputId": "a2f6dfea-b48f-47b2-99d0-c4f5585e82ff"
      },
      "execution_count": 65,
      "outputs": [
        {
          "output_type": "stream",
          "name": "stderr",
          "text": [
            "[nltk_data] Downloading package omw-1.4 to /root/nltk_data...\n",
            "[nltk_data]   Package omw-1.4 is already up-to-date!\n"
          ]
        },
        {
          "output_type": "execute_result",
          "data": {
            "text/plain": [
              "True"
            ]
          },
          "metadata": {},
          "execution_count": 65
        }
      ]
    },
    {
      "cell_type": "code",
      "source": [
        "# Step - a : Remove blank rows if any.\n",
        "Corpus['tanda_dan_gejala'].dropna(inplace=True)\n",
        "# Step - b : Change all the tanda_dan_gejala to lower case. This is required as python interprets 'dog' and 'DOG' differently\n",
        "Corpus['tanda_dan_gejala'] = [entry.lower() for entry in Corpus['tanda_dan_gejala']]\n",
        "# Step - c : Tokenization : In this each entry in the corpus will be broken into set of words\n",
        "Corpus['tanda_dan_gejala']= [word_tokenize(entry) for entry in Corpus['tanda_dan_gejala']]\n",
        "# Step - d : Remove Stop words, Non-Numeric and perfom Word Stemming/Lemmenting.\n",
        "# WordNetLemmatizer requires Pos tags to understand if the word is noun or verb or adjective etc. By default it is set to Noun\n",
        "tag_map = defaultdict(lambda : wn.NOUN)\n",
        "tag_map['J'] = wn.ADJ\n",
        "tag_map['V'] = wn.VERB\n",
        "tag_map['R'] = wn.ADV\n",
        "for index,entry in enumerate(Corpus['tanda_dan_gejala']):\n",
        "    # Declaring Empty List to store the words that follow the rules for this step\n",
        "    Final_words = []\n",
        "    # Initializing WordNetLemmatizer()\n",
        "    word_Lemmatized = WordNetLemmatizer()\n",
        "    # pos_tag function below will provide the 'tag' i.e if the word is Noun(N) or Verb(V) or something else.\n",
        "    for word, tag in pos_tag(entry):\n",
        "        # Below condition is to check for Stop words and consider only alphabets\n",
        "        if word not in stopwords.words('english') and word.isalpha():\n",
        "            word_Final = word_Lemmatized.lemmatize(word,tag_map[tag[0]])\n",
        "            Final_words.append(word_Final)\n",
        "    # The final processed set of words for each iteration will be stored in 'tanda_dan_gejala_final'\n",
        "    Corpus.loc[index,'tanda_dan_gejala_final'] = str(Final_words)"
      ],
      "metadata": {
        "id": "TrZpEvFdOHlr"
      },
      "execution_count": 66,
      "outputs": []
    },
    {
      "cell_type": "code",
      "source": [
        "Train_X, Test_X, Train_Y, Test_Y = model_selection.train_test_split(Corpus['tanda_dan_gejala_final'],Corpus['nama_penyakit'],test_size=0.3)"
      ],
      "metadata": {
        "id": "gLutSrTeR3-7"
      },
      "execution_count": 67,
      "outputs": []
    },
    {
      "cell_type": "code",
      "source": [
        "Encoder = LabelEncoder()\n",
        "Train_Y = Encoder.fit_transform(Train_Y)\n",
        "Test_Y = Encoder.fit_transform(Test_Y)"
      ],
      "metadata": {
        "id": "Q7hwyKJ9SGcC"
      },
      "execution_count": 68,
      "outputs": []
    },
    {
      "cell_type": "code",
      "source": [
        "Tfidf_vect = TfidfVectorizer(max_features=5000)\n",
        "Tfidf_vect.fit(Corpus['tanda_dan_gejala_final'])\n",
        "Train_X_Tfidf = Tfidf_vect.transform(Train_X)\n",
        "Test_X_Tfidf = Tfidf_vect.transform(Test_X)"
      ],
      "metadata": {
        "id": "OwsX8tueSGni"
      },
      "execution_count": 69,
      "outputs": []
    },
    {
      "cell_type": "code",
      "source": [
        "print(Tfidf_vect.vocabulary_)"
      ],
      "metadata": {
        "colab": {
          "base_uri": "https://localhost:8080/"
        },
        "id": "RFXfgmEIfqHF",
        "outputId": "c5d2cfb7-8e70-4f17-8ce7-b6464947b013"
      },
      "execution_count": 70,
      "outputs": [
        {
          "output_type": "stream",
          "name": "stdout",
          "text": [
            "{'hidung': 268, 'keluar': 341, 'lendir': 430, 'choncae': 139, 'nasal': 568, 'kebiruan': 321, 'berlendir': 92, 'demam': 159, 'kemerahan': 347, 'bau': 47, 'nyeri': 583, 'di': 171, 'dalam': 147, 'ada': 1, 'krusta': 402, 'gatal': 241, 'pada': 596, 'mata': 469, 'tenggorokan': 813, 'kulit': 407, 'atau': 33, 'area': 26, 'apa': 25, 'pun': 682, 'batuk': 46, 'bersin': 98, 'meler': 474, 'tersumbat': 833, 'berair': 63, 'lingkaran': 447, 'hitam': 275, 'bawah': 48, 'sakit': 712, 'kepala': 356, 'gejala': 242, 'sejenis': 734, 'eksim': 211, 'misalnya': 547, 'sangat': 719, 'kering': 364, 'dan': 149, 'serta': 765, 'sering': 764, 'melepuh': 473, 'kelelahan': 336, 'yang': 890, 'amat': 15, 'pilek': 661, 'perut': 659, 'sebelah': 726, 'kanan': 309, 'awalnya': 36, 'sekitar': 737, 'daerah': 145, 'pusar': 687, 'lemas': 428, 'dekat': 157, 'bagian': 38, 'atas': 32, 'menjadi': 519, 'semakin': 751, 'tajam': 795, 'ketika': 377, 'bergerak': 76, 'ke': 316, 'ini': 285, 'penting': 633, 'tanda': 801, 'utama': 874, 'biasanya': 110, 'merupakan': 540, 'pertama': 657, 'kehilangan': 327, 'selera': 748, 'makan': 456, 'mual': 548, 'muntah': 559, 'segera': 732, 'setelah': 771, 'dimulai': 185, 'pembengkakan': 621, 'ketidakmampuan': 376, 'untuk': 866, 'kentut': 355, 'flatus': 228, 'jika': 301, 'terjadi': 824, 'komplikasi': 382, 'perlengketan': 652, 'perforasi': 644, 'susah': 792, 'ringan': 704, 'diare': 173, 'dengan': 162, 'kembung': 346, 'nafsu': 562, 'adalah': 2, 'awal': 35, 'usus': 873, 'buntu': 127, 'lainnya': 415, 'dapat': 150, 'perjalanan': 650, 'penyakit': 635, 'tidak': 843, 'bisa': 115, 'buang': 122, 'gas': 240, 'konstipasi': 389, 'hilangnya': 271, 'membesar': 483, 'nagian': 563, 'keperut': 357, 'meriang': 538, 'muncul': 556, 'rasa': 694, 'otot': 594, 'sesak': 768, 'dada': 144, 'disertai': 195, 'tinggi': 848, 'kedinginan': 324, 'berkeringat': 83, 'badan': 37, 'kelemahan': 337, 'dehidrasi': 156, 'tangan': 802, 'kaki': 306, 'dingin': 187, 'pucat': 678, 'jarang': 296, 'air': 6, 'kecil': 323, 'mudah': 550, 'marah': 465, 'mengantuk': 497, 'fes': 225, 'anak': 18, 'mengandung': 496, 'darah': 151, 'nanah': 565, 'berwarna': 107, 'gelap': 243, 'menandakan': 489, 'adanya': 3, 'kurang': 409, 'tidur': 844, 'penurunan': 634, 'berat': 65, 'fare': 222, 'merah': 535, 'membengkaknya': 480, 'kelenjar': 338, 'getah': 245, 'bening': 60, 'leher': 424, 'sendi': 756, 'bengkak': 58, 'terasa': 815, 'lelah': 425, 'pusing': 688, 'menelan': 492, 'berkurang': 87, 'ruam': 709, 'suhu': 787, 'tiga': 845, 'puluh': 681, 'delapan': 158, 'derajat': 167, 'celsius': 136, 'panas': 602, 'lebih': 423, 'dari': 152, 'pembesaran': 622, 'ketiak': 375, 'amandel': 14, 'membengkak': 479, 'limpa': 446, 'peradangan': 640, 'hati': 258, 'menyerupai': 531, 'flu': 232, 'seperti': 762, 'hingga': 272, 'bengkaknya': 59, 'sulit': 789, 'bicara': 112, 'karena': 313, 'suara': 785, 'serak': 763, 'enak': 216, 'mulut': 555, 'menimbulkan': 513, 'berdahak': 72, 'dahak': 146, 'kental': 354, 'kuning': 408, 'kehijauan': 326, 'kadang': 304, 'terdapat': 819, 'bercak': 70, 'luka': 453, 'disebabkan': 193, 'oleh': 587, 'infeksi': 279, 'bakteri': 40, 'menyebabkan': 526, 'terkadang': 825, 'telinga': 810, 'laring': 421, 'menyerang': 530, 'pengidap': 628, 'akan': 7, 'mengalami': 495, 'kesulitan': 373, 'bernapas': 95, 'membuka': 484, 'merasa': 536, 'menggigil': 505, 'sampai': 718, 'gusi': 253, 'berdarah': 73, 'kenaikan': 351, 'cairan': 132, 'gingival': 248, 'gosok': 250, 'gigi': 246, 'pemeriksaan': 623, 'konsistensi': 388, 'lunak': 454, 'menyikat': 532, 'membersihkan': 482, 'sela': 743, 'menggunakan': 506, 'benang': 56, 'floss': 230, 'warna': 888, 'kehitaman': 328, 'napas': 567, 'sedap': 730, 'saat': 710, 'mengunyah': 512, 'makanan': 457, 'menyusut': 533, 'sehingga': 733, 'akar': 8, 'terlihat': 831, 'antara': 23, 'palsu': 600, 'pa': 595, 'lagi': 412, 'tanggal': 803, 'copot': 142, 'napa': 566, 'nafas': 561, 'mungkin': 558, 'asimptomatik': 30, 'uretritis': 868, 'meliputi': 476, 'disuria': 203, 'rabas': 690, 'uretra': 867, 'purulen': 685, 'tempat': 811, 'gambaran': 237, 'klinis': 379, 'bervariasi': 106, 'menurut': 524, 'terkena': 826, 'kencing': 352, 'inkontinensia': 286, 'urine': 871, 'edema': 209, 'meatus': 471, 'vulva': 885, 'terbakar': 817, 'eksudat': 213, 'berdekatan': 74, 'vagina': 876, 'distensi': 202, 'eritema': 219, 'abdomen': 0, 'kuadran': 403, 'pelvis': 620, 'hebat': 260, 'pelvik': 619, 'rigiditas': 703, 'tekan': 808, 'nausea': 569, 'vomitus': 884, 'takikardia': 797, 'pasien': 612, 'salpingitis': 715, 'inflamasi': 280, 'serviks': 767, 'faringitis': 223, 'tonsilitis': 851, 'rektum': 699, 'mukopurulen': 553, 'bernanah': 94, 'riwayat': 706, 'seks': 739, 'bebas': 50, 'oral': 590, 'pipis': 663, 'teh': 807, 'feses': 226, 'letih': 439, 'buruk': 129, 'lambung': 419, 'urin': 869, 'putih': 689, 'dempul': 161, 'menguning': 511, 'perubahan': 658, 'mental': 521, 'keadaan': 317, 'sadar': 711, 'koma': 381, 'perdarahan': 642, 'tubuh': 855, 'tinja': 850, 'bahkan': 39, 'merasakan': 537, 'sama': 717, 'sekali': 735, 'berubah': 102, 'kekuningan': 333, 'jaundice': 298, 'hal': 254, 'peningkatan': 631, 'bilirubin': 113, 'turun': 859, 'bintil': 114, 'cacar': 130, 'salah': 713, 'satu': 723, 'sisi': 780, 'kiri': 378, 'tersebut': 832, 'hanya': 256, 'setempat': 772, 'jaringan': 297, 'berkembang': 80, 'lepuh': 435, 'pecah': 614, 'berkerak': 82, 'lalu': 417, 'menghilang': 508, 'secara': 727, 'perlahan': 651, 'timbul': 846, 'mengganggu': 503, 'penglihatan': 629, 'silau': 777, 'terhadap': 822, 'cahaya': 131, 'vesikel': 881, 'persebaran': 656, 'sesuai': 769, 'dermatom': 168, 'timbulnya': 847, 'saraf': 721, 'priritis': 671, 'perestesia': 643, 'batang': 45, 'lesi': 437, 'pernapasan': 655, 'serupa': 766, 'selesma': 749, 'influenza': 281, 'malaise': 461, 'mialgia': 541, 'anoreksia': 22, 'anemia': 20, 'leukopenia': 440, 'trombositopenia': 854, 'ulkus': 862, 'orofaring': 592, 'hepatosplenomegali': 265, 'limfadenopati': 443, 'generalisata': 244, 'pula': 679, 'ulserasi': 863, 'lidah': 441, 'palatum': 599, 'epiglotis': 218, 'parau': 611, 'disfagia': 196, 'produktif': 673, 'dispnea': 201, 'hemoptisis': 264, 'lemah': 427, 'ekstrem': 212, 'sianosis': 775, 'nodul': 577, 'papula': 608, 'kutaneus': 410, 'kranium': 398, 'tulang': 856, 'panjang': 606, 'viseral': 883, 'tanpa': 804, 'pulmoner': 680, 'salesma': 714, 'biasanyanya': 111, 'noda': 576, 'limfa': 442, 'sendiri': 757, 'pangkal': 605, 'paha': 598, 'menurun': 522, 'diketahui': 184, 'penyebabnya': 637, 'berkelanjutan': 79, 'jamur': 293, 'alat': 11, 'kelamin': 335, 'memar': 478, 'sebab': 724, 'pegal': 616, 'pneumonia': 668, 'keringat': 365, 'malam': 462, 'kuku': 406, 'kebingungan': 320, 'berkonsentrasi': 86, 'herpes': 266, 'kesemutan': 371, 'menstruasi': 520, 'teratur': 816, 'kepribadian': 358, 'kemampuan': 345, 'sariawan': 722, 'ditandai': 204, 'lapisan': 420, 'keputihan': 359, 'tebal': 806, 'parah': 609, 'berulang': 104, 'radang': 691, 'panggul': 604, 'kronis': 401, 'dijelaskan': 182, 'bersamaan': 97, 'turunnya': 860, 'bukan': 124, 'olahraga': 586, 'diet': 178, 'hari': 257, 'mengerasnya': 501, 'terletak': 829, 'terus': 837, 'menerus': 493, 'anus': 24, 'penyebab': 636, 'pasti': 613, 'biasa': 109, 'mati': 470, 'kendali': 353, 'refleks': 696, 'kelumpuhan': 343, 'kekuatan': 332, 'erosi': 220, 'dispareunia': 200, 'sekret': 738, 'mikropurulen': 543, 'uterus': 875, 'limfonodus': 445, 'mengigil': 510, 'per': 639, 'vaginam': 877, 'sesudah': 770, 'hubungan': 276, 'intim': 287, 'pengeluaran': 627, 'piuria': 664, 'urinary': 870, 'frequency': 235, 'pruritus': 676, 'banyak': 42, 'sedikit': 731, 'jernih': 300, 'mukoid': 552, 'skrotum': 781, 'punggung': 683, 'nokturia': 579, 'ejakulasi': 210, 'berkemih': 81, 'ingin': 284, 'tapi': 805, 'berbau': 68, 'suprapubic': 790, 'tekanan': 809, 'amis': 17, 'keruh': 367, 'hiperemia': 273, 'konjungtiva': 385, 'lakrimasi': 416, 'fotofobia': 233, 'kornea': 393, 'ikut': 277, 'catatan': 134, 'semua': 755, 'virus': 882, 'lengket': 432, 'pandangan': 603, 'kabur': 303, 'kelopak': 340, 'benjolan': 61, 'secret': 728, 'bola': 117, 'dalan': 148, 'bata': 44, 'normal': 580, 'perih': 647, 'sensasi': 759, 'berpasir': 96, 'sensitif': 760, 'hemolitik': 263, 'hemoglobin': 262, 'kerusakan': 368, 'retina': 702, 'berlebih': 90, 'sedang': 729, 'kadar': 305, 'gula': 252, 'kaku': 307, 'kuduk': 405, 'letargi': 438, 'brudzinski': 121, 'kemig': 348, 'positif': 670, 'tendon': 812, 'meningkat': 515, 'simetris': 778, 'opistotonos': 588, 'nadi': 560, 'lebar': 422, 'bradikardia': 118, 'meningitis': 514, 'protozoa': 674, 'fungus': 236, 'kesadaran': 369, 'proyektil': 675, 'brakikardi': 120, 'kejang': 330, 'terlalu': 827, 'lelap': 426, 'pingsan': 662, 'terutama': 838, 'bayi': 49, 'baru': 43, 'lahir': 413, 'kondisi': 383, 'linglung': 449, 'photophobia': 660, 'tak': 796, 'drainase': 206, 'vertigo': 880, 'sebalah': 725, 'tinitus': 849, 'erythema': 221, 'chronicum': 140, 'migrans': 542, 'ecm': 208, 'makula': 459, 'umumnya': 865, 'ditemukan': 205, 'gigitan': 247, 'kutu': 411, 'tumbuh': 857, 'berukuran': 103, 'inci': 278, 'teraba': 814, 'sapi': 720, 'beberapa': 51, 'cincin': 141, 'konjungtivitis': 386, 'urtikaria': 872, 'difus': 179, 'digantikan': 180, 'minggu': 545, 'keletihan': 339, 'kambuhan': 308, 'regional': 698, 'meningoensefalitis': 517, 'neurologi': 572, 'neuropati': 573, 'perifer': 646, 'kranial': 397, 'bulan': 125, 'kemudian': 350, 'paralisis': 610, 'fasialis': 224, 'kelainan': 334, 'jantung': 295, 'atrioventricular': 34, 'heart': 259, 'block': 116, 'berfluktuasi': 75, 'berlangsung': 88, 'singkat': 779, 'disfungsi': 197, 'ventrikel': 879, 'kardiomegali': 312, 'artritis': 29, 'nyata': 582, 'neuropsikiatri': 574, 'perilaku': 648, 'psikotik': 677, 'daya': 155, 'ingat': 282, 'demensia': 160, 'depresi': 166, 'ensefalopati': 217, 'konfusi': 384, 'berkonsenterasi': 85, 'manifestasi': 464, 'oftalmikus': 585, 'iritis': 290, 'keratitis': 363, 'vaskulitis': 878, 'neuritis': 571, 'nervus': 570, 'optikum': 589, 'sputum': 784, 'ronki': 708, 'bunyi': 128, 'pleuritik': 667, 'takipnea': 798, 'purulent': 686, 'dipnea': 190, 'hijau': 269, 'menarik': 490, 'iritasi': 289, 'berbentuk': 69, 'wajah': 886, 'menyebar': 527, 'muda': 549, 'diawali': 174, 'seluruh': 750, 'juga': 302, 'disentuh': 194, 'memerah': 486, 'agak': 5, 'hilang': 270, 'waktu': 887, 'selain': 744, 'itu': 291, 'lain': 414, 'belakang': 52, 'bersuhu': 99, 'celcius': 135, 'meradang': 534, 'jambu': 292, 'permukaan': 653, 'sekujur': 741, 'takut': 799, 'hidrofobia': 267, 'produksi': 672, 'liur': 450, 'berlebihan': 91, 'retensi': 701, 'hipertermia': 274, 'detak': 169, 'beraturan': 66, 'aritmia': 27, 'hampir': 255, 'neutrofil': 575, 'jenis': 299, 'sel': 742, 'selama': 746, 'mengeluarkan': 498, 'terganggu': 820, 'kekakuan': 331, 'rahang': 692, 'trismus': 853, 'menyakitkan': 525, 'menit': 518, 'dipicu': 189, 'kejadian': 329, 'angin': 21, 'kera': 360, 'sentuhan': 761, 'fisik': 227, 'berjalan': 78, 'cepat': 138, 'kontraksi': 391, 'memiliki': 487, 'mengakibatkan': 494, 'dibuka': 177, 'muka': 551, 'meringis': 539, 'kesakitan': 370, 'tetanus': 840, 'umum': 864, 'sukar': 788, 'keras': 362, 'papan': 607, 'kesukaran': 372, 'selalu': 745, 'tampak': 800, 'pengunyah': 630, 'rangka': 693, 'akibatnya': 10, 'mengeluh': 499, 'dinding': 186, 'sekeras': 736, 'adenopati': 4, 'obstruksi': 584, 'saluran': 716, 'nodus': 578, 'limfe': 444, 'pleuritic': 666, 'tahap': 793, 'selanjutnya': 747, 'menghasilkan': 507, 'bercampur': 71, 'perhatikan': 645, 'cara': 133, 'melindungi': 475, 'darpenyakit': 153, 'akhirnya': 9, 'berlimpah': 93, 'diikuti': 181, 'amati': 16, 'mulai': 554, 'sore': 782, 'dini': 188, 'denyut': 164, 'bradycardia': 119, 'weakness': 889, 'kasus': 315, 'tertentu': 834, 'penyebaran': 638, 'flek': 229, 'rise': 705, 'spot': 783, 'empat': 214, 'mimisan': 544, 'berlanjut': 89, 'memburuk': 485, 'mengigau': 509, 'sembelit': 752, 'empedu': 215, 'makin': 458, 'lama': 418, 'kecendrungannya': 322, 'dewasa': 170, 'berupa': 105, 'disorientasi': 199, 'lingkungan': 448, 'bertahap': 100, 'tiap': 842, 'mencapai': 491, 'sembilan': 753, 'ginjal': 249, 'sementara': 754, 'orang': 591, 'cenderung': 137, 'tahu': 794, 'berada': 62, 'mana': 463, 'dirinya': 192, 'setiap': 774, 'menurunkan': 523, 'berbaring': 67, 'setengah': 773, 'tertutup': 836, 'rendah': 700, 'gangguan': 239, 'pencernaan': 624, 'kemaluan': 344, 'seni': 758, 'anda': 19, 'sudah': 786, 'dikeluarkan': 183, 'malah': 460, 'kram': 396, 'nyaman': 581, 'naik': 564, 'kandung': 310, 'kemih': 349, 'depan': 165, 'keluarnya': 342, 'gampang': 238, 'kebelet': 319, 'rasanya': 695, 'kantong': 311, 'pernah': 654, 'kosong': 394, 'dibawah': 175, 'menyengat': 529, 'meningkatnya': 516, 'frekuensi': 234, 'hematuria': 261, 'pekat': 618, 'beraroma': 64, 'kuat': 404, 'munculnya': 557, 'belekan': 54, 'benda': 57, 'asing': 31, 'mengganjal': 504, 'kedua': 325, 'kotoran': 395, 'membentuk': 481, 'kerak': 361, 'pagi': 597, 'reflex': 697, 'pupil': 684, 'masih': 467, 'ketajaman': 374, 'bulu': 126, 'bangun': 41, 'kasar': 314, 'peka': 617, 'terbentuk': 818, 'keropeng': 366, 'mengeras': 500, 'terganjal': 821, 'alis': 13, 'alergi': 12, 'lensa': 434, 'kontak': 390, 'pedas': 615, 'mempersulit': 488, 'robekan': 707, 'besar': 108, 'lutut': 455, 'tungkai': 858, 'lengan': 431, 'ingatan': 283, 'jangka': 294, 'pendek': 626, 'diajak': 172, 'berkomunikasi': 84, 'lokasi': 451, 'kebas': 318, 'bell': 55, 'palsy': 601, 'irama': 288, 'otak': 593, 'terlibat': 830, 'percakapan': 641, 'konsentrasi': 387, 'mirip': 546, 'masalah': 466, 'kognitif': 380, 'melunak': 477, 'sikat': 776, 'flossing': 231, 'dental': 163, 'aroma': 28, 'posisi': 669, 'terlepas': 828, 'masuk': 468, 'periodontitis': 649, 'longgar': 452, 'lengser': 433, 'plak': 665, 'surut': 791, 'lembut': 429, 'pendarahan': 625, 'disikat': 198, 'dibersihkan': 176, 'goyang': 251, 'cukup': 143, 'penis': 632, 'tetesan': 841, 'krem': 399, 'bukaan': 123, 'testis': 839, 'datang': 154, 'krim': 400, 'melakukan': 472, 'seksual': 740, 'dirasakan': 191, 'ujung': 861, 'bertambahnya': 101, 'dubur': 207, 'belang': 53, 'lepuhan': 436, 'berisi': 77, 'menyelimuti': 528, 'torso': 852, 'terinfeksi': 823, 'tertusuk': 835, 'mengering': 502, 'koreng': 392}\n"
          ]
        }
      ]
    },
    {
      "cell_type": "code",
      "source": [
        "print(Train_X_Tfidf)"
      ],
      "metadata": {
        "colab": {
          "base_uri": "https://localhost:8080/"
        },
        "id": "V8ySJyUBf4hj",
        "outputId": "5a12b03a-7f22-4de8-a9d2-b59d50129c13"
      },
      "execution_count": 71,
      "outputs": [
        {
          "output_type": "stream",
          "name": "stdout",
          "text": [
            "  (0, 568)\t0.4752177371886978\n",
            "  (0, 347)\t0.34195960291103045\n",
            "  (0, 268)\t0.32357812142857517\n",
            "  (0, 159)\t0.17193850566845262\n",
            "  (0, 139)\t0.4752177371886978\n",
            "  (0, 92)\t0.5451001596960795\n",
            "  (1, 709)\t0.2677087627577838\n",
            "  (1, 562)\t0.2789538477521666\n",
            "  (1, 559)\t0.2789538477521666\n",
            "  (1, 548)\t0.2789538477521666\n",
            "  (1, 535)\t0.2485501546120657\n",
            "  (1, 456)\t0.24570000640454542\n",
            "  (1, 364)\t0.32382644531329274\n",
            "  (1, 270)\t0.4500182748886876\n",
            "  (1, 173)\t0.3118767602602772\n",
            "  (1, 159)\t0.16282108947699464\n",
            "  (1, 149)\t0.15066362877154976\n",
            "  (1, 107)\t0.25451915281470416\n",
            "  (1, 46)\t0.23260102093396534\n",
            "  (2, 833)\t0.2072419461672148\n",
            "  (2, 813)\t0.31892402782105045\n",
            "  (2, 682)\t0.2729504478819203\n",
            "  (2, 596)\t0.10766461364397534\n",
            "  (2, 474)\t0.24507142415767982\n",
            "  (2, 469)\t0.29826773357077563\n",
            "  :\t:\n",
            "  (113, 610)\t0.1924667901851696\n",
            "  (113, 573)\t0.1924667901851696\n",
            "  (113, 572)\t0.1924667901851696\n",
            "  (113, 545)\t0.14311789416628498\n",
            "  (113, 517)\t0.1924667901851696\n",
            "  (113, 397)\t0.1924667901851696\n",
            "  (113, 379)\t0.15335871536420975\n",
            "  (113, 378)\t0.17803316337365208\n",
            "  (113, 350)\t0.15984894413565026\n",
            "  (113, 334)\t0.1924667901851696\n",
            "  (113, 312)\t0.1924667901851696\n",
            "  (113, 295)\t0.15335871536420975\n",
            "  (113, 285)\t0.13892508855269226\n",
            "  (113, 259)\t0.1924667901851696\n",
            "  (113, 224)\t0.1924667901851696\n",
            "  (113, 197)\t0.1924667901851696\n",
            "  (113, 195)\t0.11628534882765307\n",
            "  (113, 185)\t0.14787130512624957\n",
            "  (113, 149)\t0.11235189574701475\n",
            "  (113, 125)\t0.17803316337365208\n",
            "  (113, 116)\t0.1924667901851696\n",
            "  (113, 88)\t0.15984894413565026\n",
            "  (113, 75)\t0.1924667901851696\n",
            "  (113, 51)\t0.29574261025249915\n",
            "  (113, 34)\t0.1924667901851696\n"
          ]
        }
      ]
    },
    {
      "cell_type": "code",
      "source": [
        "# fit the training dataset on the NB classifier\n",
        "Naive = naive_bayes.MultinomialNB()\n",
        "Naive.fit(Train_X_Tfidf,Train_Y)\n",
        "# predict the labels on validation dataset\n",
        "predictions_NB = Naive.predict(Test_X_Tfidf)\n",
        "# Use accuracy_score function to get the accuracy\n",
        "print(\"Naive Bayes Accuracy Score -> \",accuracy_score(predictions_NB, Test_Y)*100)"
      ],
      "metadata": {
        "colab": {
          "base_uri": "https://localhost:8080/"
        },
        "id": "BRLoHekpf8QP",
        "outputId": "90f592f9-e1cf-4435-c103-66b257d24b4f"
      },
      "execution_count": 72,
      "outputs": [
        {
          "output_type": "stream",
          "name": "stdout",
          "text": [
            "Naive Bayes Accuracy Score ->  8.16326530612245\n"
          ]
        }
      ]
    },
    {
      "cell_type": "code",
      "source": [
        "# Classifier - Algorithm - SVM\n",
        "# fit the training dataset on the classifier\n",
        "SVM = svm.SVC(C=1.0, kernel='linear', degree=3, gamma='auto')\n",
        "SVM.fit(Train_X_Tfidf,Train_Y)\n",
        "# predict the labels on validation dataset\n",
        "predictions_SVM = SVM.predict(Test_X_Tfidf)\n",
        "# Use accuracy_score function to get the accuracy\n",
        "print(\"SVM Accuracy Score -> \",accuracy_score(predictions_SVM, Test_Y)*100)"
      ],
      "metadata": {
        "colab": {
          "base_uri": "https://localhost:8080/"
        },
        "id": "RQa76Q1FgeJa",
        "outputId": "d4aaa66b-ff20-42ad-9185-ec6e122dc432"
      },
      "execution_count": 73,
      "outputs": [
        {
          "output_type": "stream",
          "name": "stdout",
          "text": [
            "SVM Accuracy Score ->  10.204081632653061\n"
          ]
        }
      ]
    },
    {
      "cell_type": "code",
      "source": [],
      "metadata": {
        "id": "1rCF1-x_gioh"
      },
      "execution_count": null,
      "outputs": []
    }
  ]
}